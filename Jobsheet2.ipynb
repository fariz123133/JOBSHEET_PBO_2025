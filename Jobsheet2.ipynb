{
  "nbformat": 4,
  "nbformat_minor": 0,
  "metadata": {
    "colab": {
      "provenance": [],
      "authorship_tag": "ABX9TyOoehnLR13UrT0yD1sdjID7",
      "include_colab_link": true
    },
    "kernelspec": {
      "name": "python3",
      "display_name": "Python 3"
    },
    "language_info": {
      "name": "python"
    }
  },
  "cells": [
    {
      "cell_type": "markdown",
      "metadata": {
        "id": "view-in-github",
        "colab_type": "text"
      },
      "source": [
        "<a href=\"https://colab.research.google.com/github/fariz123133/JOBSHEET_PBO_2025/blob/main/Jobsheet2.ipynb\" target=\"_parent\"><img src=\"https://colab.research.google.com/assets/colab-badge.svg\" alt=\"Open In Colab\"/></a>"
      ]
    },
    {
      "cell_type": "markdown",
      "source": [
        "Praktikum 1"
      ],
      "metadata": {
        "id": "cJ5xXiGsLS4X"
      }
    },
    {
      "cell_type": "code",
      "source": [
        "# Fungsi Built-in\n",
        "\n",
        "# Fungsi print() adalah contoh fungsi built-in untuk mencetak output\n",
        "print(\"Ini adalah contoh fungsi built-in\")"
      ],
      "metadata": {
        "colab": {
          "base_uri": "https://localhost:8080/"
        },
        "id": "BosPJg7sLfP9",
        "outputId": "44631005-11d7-4bca-8a39-95a7789e4f02"
      },
      "execution_count": null,
      "outputs": [
        {
          "output_type": "stream",
          "name": "stdout",
          "text": [
            "Ini adalah contoh fungsi built-in\n"
          ]
        }
      ]
    },
    {
      "cell_type": "code",
      "source": [
        "# Fungsi len() adalah contoh fungsi built-in untuk menghitung panjang suatu objek\n",
        "kata = \"Pemrograman\"\n",
        "panjang_kata = len(kata)\n",
        "print(f\"Panjang kata '{kata}' adalah: {panjang_kata}\")"
      ],
      "metadata": {
        "id": "Zj7IGeCZQTMw",
        "outputId": "a7a10f51-05e0-4c2c-a431-099bc50a1737",
        "colab": {
          "base_uri": "https://localhost:8080/"
        }
      },
      "execution_count": 1,
      "outputs": [
        {
          "output_type": "stream",
          "name": "stdout",
          "text": [
            "Panjang kata 'Pemrograman' adalah: 11\n"
          ]
        }
      ]
    },
    {
      "cell_type": "code",
      "source": [
        "# Fungsi max() adalah contoh fungsi built-in untuk mencari nilai maksimum dari sebuah daftar\n",
        "angka = [10, 5, 30, 40, 25]\n",
        "nilai_max = max(angka)\n",
        "print(f\"Nilai maksimum dalam daftar {angka} adalah: {nilai_max}\")"
      ],
      "metadata": {
        "id": "WSZj2lLBQufB",
        "outputId": "3c89a621-3852-4275-ab69-858c5e5bdd8b",
        "colab": {
          "base_uri": "https://localhost:8080/"
        }
      },
      "execution_count": 2,
      "outputs": [
        {
          "output_type": "stream",
          "name": "stdout",
          "text": [
            "Nilai maksimum dalam daftar [10, 5, 30, 40, 25] adalah: 40\n"
          ]
        }
      ]
    },
    {
      "cell_type": "code",
      "source": [
        "# Fungsi User-Defined\n",
        "\n",
        "# Fungsi dengan satu parameter (Menerima satu nilai input)\n",
        "def cetak_kuadrat(angka):\n",
        "    # Menghitung kuadrat dari angka yang diterima sebagai parameter\n",
        "    print(f\"Kuadrat dari {angka} adalah: {angka ** 2}\")\n",
        "\n",
        "# Fungsi dengan beberapa parameter (Menerima lebih dari satu nilai input)\n",
        "def hitung_luas_persegi_panjang(panjang, lebar):\n",
        "    # Menghitung luas persegi panjang\n",
        "    return panjang * lebar\n",
        "\n",
        "# Fungsi dengan beberapa tipe parameter (Menerima berbagai jenis data)\n",
        "def info_mahasiswa(nama, umur, ipk):\n",
        "    # Mencetak informasi mahasiswa\n",
        "    print(f\"Nama: {nama}, Umur: {umur}, IPK: {ipk}\")\n",
        "\n",
        "# Fungsi tanpa return value (Non-return value)\n",
        "def sapa_pengguna(nama):\n",
        "    # Fungsi ini hanya mencetak sapaan tanpa mengembalikan nilai\n",
        "    print(f\"Halo, {nama}! Selamat datang di dunia Python.\")\n",
        "\n",
        "# Fungsi dengan return value\n",
        "def hitung_keliling_persegi(sisi):\n",
        "    # Mengembalikan keliling persegi\n",
        "    return 4 * sisi\n",
        "\n",
        "# Pemanggilan fungsi dengan satu parameter\n",
        "cetak_kuadrat(5)\n",
        "\n",
        "# Pemanggilan fungsi dengan beberapa parameter\n",
        "luas = hitung_luas_persegi_panjang(10, 5)\n",
        "print(f\"Luas persegi panjang: {luas}\")\n",
        "\n",
        "# Pemanggilan fungsi dengan beberapa tipe parameter\n",
        "info_mahasiswa(\"Budi\", 22, 3.8)\n",
        "\n",
        "# Pemanggilan fungsi tanpa return value\n",
        "sapa_pengguna(\"Andi\")\n",
        "\n",
        "# Pemanggilan fungsi dengan return value\n",
        "keliling = hitung_keliling_persegi(5)\n",
        "print(f\"Keliling persegi dengan sisi 5 adalah: {keliling}\")\n"
      ],
      "metadata": {
        "id": "Y-s44wJZRXck",
        "outputId": "68716744-861d-4c03-b8ba-4bbc6a996ce6",
        "colab": {
          "base_uri": "https://localhost:8080/"
        }
      },
      "execution_count": 7,
      "outputs": [
        {
          "output_type": "stream",
          "name": "stdout",
          "text": [
            "Kuadrat dari 5 adalah: 25\n",
            "Luas persegi panjang: 50\n",
            "Nama: Budi, Umur: 22, IPK: 3.8\n",
            "Halo, Andi! Selamat datang di dunia Python.\n",
            "Keliling persegi dengan sisi 5 adalah: 20\n"
          ]
        }
      ]
    },
    {
      "cell_type": "markdown",
      "source": [
        "Praktikum 2"
      ],
      "metadata": {
        "id": "tIVL7gH2hs1k"
      }
    },
    {
      "cell_type": "code",
      "source": [
        "# File utama main.py yang mengimpor modul geometri.py\n",
        "\n",
        "# Mengimpor modul geometri\n",
        "import geometri\n",
        "\n",
        "def main():\n",
        "    # Menggunakan fungsi dari modul\n",
        "    luas_persegi = geometri.hitung_luas_persegi(5)\n",
        "    print(f\"Luas persegi dengan sisi 5 adalah: {luas_persegi}\")\n",
        "\n",
        "    luas_persegi_panjang = geometri.hitung_luas_persegi_panjang(10, 5)\n",
        "    print(f\"Luas persegi panjang dengan panjang 10 dan lebar 5 adalah: {luas_persegi_panjang}\")\n",
        "\n",
        "    luas_lingkaran = geometri.hitung_luas_lingkaran(7)\n",
        "    print(f\"Luas lingkaran dengan jari-jari 7 adalah: {luas_lingkaran}\")\n",
        "\n",
        "if __name__ == \"__main__\":\n",
        "    main()"
      ],
      "metadata": {
        "id": "tL6OJcOyWqSE",
        "outputId": "921e8a5f-ac17-4ef6-af7e-c00933742ed2",
        "colab": {
          "base_uri": "https://localhost:8080/"
        }
      },
      "execution_count": 15,
      "outputs": [
        {
          "output_type": "stream",
          "name": "stdout",
          "text": [
            "Luas persegi dengan sisi 5 adalah: 25\n",
            "Luas persegi panjang dengan panjang 10 dan lebar 5 adalah: 50\n",
            "Luas lingkaran dengan jari-jari 7 adalah: 153.86\n"
          ]
        }
      ]
    },
    {
      "cell_type": "markdown",
      "source": [
        "Praktikum 3"
      ],
      "metadata": {
        "id": "ycqZDQ9PiGf7"
      }
    },
    {
      "cell_type": "code",
      "source": [
        "# Kelas Buku untuk merepresentasikan buku di perpustakaan\n",
        "class Buku:\n",
        "    def __init__(self, judul, pengarang, tahun_terbit):\n",
        "        self.judul = judul\n",
        "        self.pengarang = pengarang\n",
        "        self.tahun_terbit = tahun_terbit\n",
        "        self.status = \"Tersedia\"  # Status buku, default adalah Tersedia\n",
        "\n",
        "    def tampilkan_info(self):\n",
        "        print(f\"Judul: {self.judul}\")\n",
        "        print(f\"Pengarang: {self.pengarang}\")\n",
        "        print(f\"Tahun Terbit: {self.tahun_terbit}\")\n",
        "        print(f\"Status: {self.status}\")\n",
        "\n",
        "    def pinjam(self):\n",
        "        if self.status == \"Tersedia\":\n",
        "            self.status = \"Dipinjam\"\n",
        "            print(f\"Buku '{self.judul}' telah dipinjam.\")\n",
        "        else:\n",
        "            print(f\"Buku '{self.judul}' sedang dipinjam.\")\n",
        "\n",
        "    def kembalikan(self):\n",
        "        if self.status == \"Dipinjam\":\n",
        "            self.status = \"Tersedia\"\n",
        "            print(f\"Buku '{self.judul}' telah dikembalikan.\")\n",
        "        else:\n",
        "            print(f\"Buku '{self.judul}' tidak sedang dipinjam.\")\n",
        "\n",
        "\n",
        "# Membuat objek dari kelas Buku\n",
        "buku1 = Buku(\"Pemrograman Python\", \"John Doe\", 2021)\n",
        "buku2 = Buku(\"Data Science untuk Pemula\", \"Jane Smith\", 2020)\n",
        "\n",
        "# Menggunakan metode objek Buku\n",
        "buku1.tampilkan_info()\n",
        "buku2.pinjam()\n",
        "\n",
        "# Mengubah status buku dan menampilkan informasi\n",
        "buku2.kembalikan()\n",
        "buku1.pinjam()\n",
        "buku1.tampilkan_info()\n",
        "\n",
        "\n",
        "# Kelas Mahasiswa untuk merepresentasikan Mahasiswa dalam kelas\n",
        "class Mahasiswa:\n",
        "    # Konstruktor (__init__) untuk menginisialisasi atribut objek\n",
        "    def __init__(self, nama, nim, umur):\n",
        "        self.nama = nama  # Atribut objek nama\n",
        "        self.nim = nim    # Atribut objek nim\n",
        "        self.umur = umur  # Atribut objek umur\n",
        "\n",
        "    # Metode untuk menampilkan informasi mahasiswa\n",
        "    def tampilkan_info(self):\n",
        "        print(f\"Nama: {self.nama}\")\n",
        "        print(f\"NIM: {self.nim}\")\n",
        "        print(f\"Umur: {self.umur} tahun\")\n",
        "\n",
        "    # Metode untuk merubah umur mahasiswa\n",
        "    def ubah_umur(self, umur_baru):\n",
        "        self.umur = umur_baru\n",
        "\n",
        "\n",
        "# Membuat objek (instance) dari kelas Mahasiswa\n",
        "mahasiswa1 = Mahasiswa(\"Andi\", \"12345\", 20)\n",
        "mahasiswa2 = Mahasiswa(\"Budi\", \"67890\", 22)\n",
        "\n",
        "# Menggunakan metode dari kelas Mahasiswa\n",
        "mahasiswa1.tampilkan_info()\n",
        "print()  # Baris kosong\n",
        "mahasiswa2.tampilkan_info()\n",
        "\n",
        "# Mengubah umur mahasiswa1 menggunakan metode ubah_umur\n",
        "mahasiswa1.ubah_umur(21)\n",
        "\n",
        "# Menampilkan info mahasiswa setelah umur diubah\n",
        "print(\"\\nSetelah mengubah umur mahasiswa1:\")\n",
        "mahasiswa1.tampilkan_info()\n"
      ],
      "metadata": {
        "id": "uOKj6tBkXHov",
        "outputId": "6e102120-dd85-42c7-be0a-b6333162ce62",
        "colab": {
          "base_uri": "https://localhost:8080/"
        }
      },
      "execution_count": 9,
      "outputs": [
        {
          "output_type": "stream",
          "name": "stdout",
          "text": [
            "Judul: Pemrograman Python\n",
            "Pengarang: John Doe\n",
            "Tahun Terbit: 2021\n",
            "Status: Tersedia\n",
            "Buku 'Data Science untuk Pemula' telah dipinjam.\n",
            "Buku 'Data Science untuk Pemula' telah dikembalikan.\n",
            "Buku 'Pemrograman Python' telah dipinjam.\n",
            "Judul: Pemrograman Python\n",
            "Pengarang: John Doe\n",
            "Tahun Terbit: 2021\n",
            "Status: Dipinjam\n",
            "Nama: Andi\n",
            "NIM: 12345\n",
            "Umur: 20 tahun\n",
            "\n",
            "Nama: Budi\n",
            "NIM: 67890\n",
            "Umur: 22 tahun\n",
            "\n",
            "Setelah mengubah umur mahasiswa1:\n",
            "Nama: Andi\n",
            "NIM: 12345\n",
            "Umur: 21 tahun\n"
          ]
        }
      ]
    },
    {
      "cell_type": "markdown",
      "source": [
        "Praktikum 4"
      ],
      "metadata": {
        "id": "TVvv8ya3iNTM"
      }
    },
    {
      "cell_type": "code",
      "source": [
        "# Kelas untuk menjelaskan atribut dan metode dalam kelas\n",
        "class Mobil:\n",
        "    def __init__(self, merk, warna, tahun, harga):\n",
        "        # Atribut yang dimiliki oleh objek Mobil\n",
        "        self.merk = merk\n",
        "        self.warna = warna\n",
        "        self.tahun = tahun\n",
        "        self.harga = harga\n",
        "\n",
        "    # Fungsi tanpa return value, hanya mencetak informasi\n",
        "    def tampilkan_info(self):\n",
        "        print(f\"Mobil {self.merk} berwarna {self.warna}, tahun {self.tahun}, harga: Rp {self.harga}\")\n",
        "\n",
        "    # Fungsi dengan satu parameter\n",
        "    def diskon(self, persen_diskon):\n",
        "        # Menghitung harga setelah diskon\n",
        "        diskon_harga = self.harga * (persen_diskon / 100)\n",
        "        harga_setelah_diskon = self.harga - diskon_harga\n",
        "        print(f\"Harga setelah diskon {persen_diskon}%: Rp {harga_setelah_diskon}\")\n",
        "\n",
        "    # Fungsi dengan return value, menghitung usia mobil berdasarkan tahun\n",
        "    def hitung_usia(self, tahun_sekarang):\n",
        "        usia = tahun_sekarang - self.tahun\n",
        "        return usia\n",
        "\n",
        "    # Fungsi dengan beberapa parameter\n",
        "    def perbarui_harga(self, harga_baru, tahun_baru):\n",
        "        self.harga = harga_baru\n",
        "        self.tahun = tahun_baru\n",
        "        print(f\"Harga dan tahun mobil {self.merk} diperbarui menjadi Rp {self.harga} dan tahun {self.tahun}\")\n",
        "\n",
        "\n",
        "# Membuat objek mobil\n",
        "mobil1 = Mobil(\"Toyota\", \"Hitam\", 2015, 300000000)\n",
        "mobil2 = Mobil(\"Honda\", \"Merah\", 2018, 250000000)\n",
        "\n",
        "# Menggunakan metode tanpa return value\n",
        "mobil1.tampilkan_info()\n",
        "mobil2.tampilkan_info()\n",
        "\n",
        "# Menggunakan metode dengan satu parameter (diskon)\n",
        "mobil1.diskon(10)\n",
        "mobil2.diskon(15)\n",
        "\n",
        "# Menggunakan metode dengan return value (hitung usia mobil)\n",
        "usia_mobil1 = mobil1.hitung_usia(2025)\n",
        "usia_mobil2 = mobil2.hitung_usia(2025)\n",
        "\n",
        "print(f\"Usia mobil1 pada tahun 2025: {usia_mobil1} tahun\")\n",
        "print(f\"Usia mobil2 pada tahun 2025: {usia_mobil2} tahun\")\n",
        "\n",
        "# Menggunakan metode dengan beberapa parameter (perbarui harga dan tahun)\n",
        "mobil1.perbarui_harga(280000000, 2022)\n",
        "mobil2.perbarui_harga(240000000, 2021)\n"
      ],
      "metadata": {
        "id": "3DQKtoifX45O",
        "outputId": "9719c6d0-0877-493c-b13c-a33bb365e170",
        "colab": {
          "base_uri": "https://localhost:8080/"
        }
      },
      "execution_count": 10,
      "outputs": [
        {
          "output_type": "stream",
          "name": "stdout",
          "text": [
            "Mobil Toyota berwarna Hitam, tahun 2015, harga: Rp 300000000\n",
            "Mobil Honda berwarna Merah, tahun 2018, harga: Rp 250000000\n",
            "Harga setelah diskon 10%: Rp 270000000.0\n",
            "Harga setelah diskon 15%: Rp 212500000.0\n",
            "Usia mobil1 pada tahun 2025: 10 tahun\n",
            "Usia mobil2 pada tahun 2025: 7 tahun\n",
            "Harga dan tahun mobil Toyota diperbarui menjadi Rp 280000000 dan tahun 2022\n",
            "Harga dan tahun mobil Honda diperbarui menjadi Rp 240000000 dan tahun 2021\n"
          ]
        }
      ]
    },
    {
      "cell_type": "markdown",
      "source": [
        "Penugasan"
      ],
      "metadata": {
        "id": "OyUVi1nQiZji"
      }
    },
    {
      "cell_type": "code",
      "source": [
        "# File utama main.py\n",
        "\n",
        "from parkir import Parkir\n",
        "\n",
        "# Membuat motor pertama\n",
        "motor1 = Parkir(\"H1234AA\", \"Scooter\")\n",
        "# Membuat motor kedua\n",
        "motor2 = Parkir(\"H5678BB\", \"Sport\")\n",
        "\n",
        "# Tampilkan info motor1\n",
        "print(\"Motor 1:\")\n",
        "motor1.info()\n",
        "print()\n",
        "\n",
        "# Tampilkan info motor2\n",
        "print(\"Motor 2:\")\n",
        "motor2.info()\n",
        "print()\n",
        "\n",
        "# Motor 1 keluar\n",
        "motor1.keluar()\n",
        "print()\n",
        "\n",
        "# Tampilkan lagi info motor1\n",
        "print(\"Motor 1 setelah keluar:\")\n",
        "motor1.info()\n"
      ],
      "metadata": {
        "id": "5wiyiS1Hieyp",
        "outputId": "a11577c0-45e5-4c79-ef9a-ec9f7caed0a2",
        "colab": {
          "base_uri": "https://localhost:8080/"
        }
      },
      "execution_count": 16,
      "outputs": [
        {
          "output_type": "stream",
          "name": "stdout",
          "text": [
            "Motor 1:\n",
            "Plat Nomor: H1234AA\n",
            "Jenis Motor: Scooter\n",
            "Status: Masuk\n",
            "\n",
            "Motor 2:\n",
            "Plat Nomor: H5678BB\n",
            "Jenis Motor: Sport\n",
            "Status: Masuk\n",
            "\n",
            "Motor H1234AA sudah keluar.\n",
            "\n",
            "Motor 1 setelah keluar:\n",
            "Plat Nomor: H1234AA\n",
            "Jenis Motor: Scooter\n",
            "Status: Keluar\n"
          ]
        }
      ]
    }
  ]
}