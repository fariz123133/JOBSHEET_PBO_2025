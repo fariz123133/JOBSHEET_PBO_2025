{
  "nbformat": 4,
  "nbformat_minor": 0,
  "metadata": {
    "colab": {
      "provenance": [],
      "authorship_tag": "ABX9TyMoIQM1phDN8KePR86PEgDY",
      "include_colab_link": true
    },
    "kernelspec": {
      "name": "python3",
      "display_name": "Python 3"
    },
    "language_info": {
      "name": "python"
    }
  },
  "cells": [
    {
      "cell_type": "markdown",
      "metadata": {
        "id": "view-in-github",
        "colab_type": "text"
      },
      "source": [
        "<a href=\"https://colab.research.google.com/github/fariz123133/JOBSHEET_PBO_2025/blob/main/Jobsheet2.ipynb\" target=\"_parent\"><img src=\"https://colab.research.google.com/assets/colab-badge.svg\" alt=\"Open In Colab\"/></a>"
      ]
    },
    {
      "cell_type": "markdown",
      "source": [
        "Praktikum 1"
      ],
      "metadata": {
        "id": "cJ5xXiGsLS4X"
      }
    },
    {
      "cell_type": "code",
      "source": [
        "# Fungsi Built-in\n",
        "\n",
        "# Fungsi print() adalah contoh fungsi built-in untuk mencetak output\n",
        "print(\"Ini adalah contoh fungsi built-in\")"
      ],
      "metadata": {
        "colab": {
          "base_uri": "https://localhost:8080/"
        },
        "id": "BosPJg7sLfP9",
        "outputId": "44631005-11d7-4bca-8a39-95a7789e4f02"
      },
      "execution_count": 1,
      "outputs": [
        {
          "output_type": "stream",
          "name": "stdout",
          "text": [
            "Ini adalah contoh fungsi built-in\n"
          ]
        }
      ]
    }
  ]
}