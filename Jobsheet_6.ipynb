{
  "nbformat": 4,
  "nbformat_minor": 0,
  "metadata": {
    "colab": {
      "provenance": [],
      "authorship_tag": "ABX9TyOUW6hsdSulh6bnaz7iGBhA",
      "include_colab_link": true
    },
    "kernelspec": {
      "name": "python3",
      "display_name": "Python 3"
    },
    "language_info": {
      "name": "python"
    }
  },
  "cells": [
    {
      "cell_type": "markdown",
      "metadata": {
        "id": "view-in-github",
        "colab_type": "text"
      },
      "source": [
        "<a href=\"https://colab.research.google.com/github/fariz123133/JOBSHEET_PBO_2025/blob/main/Jobsheet_6.ipynb\" target=\"_parent\"><img src=\"https://colab.research.google.com/assets/colab-badge.svg\" alt=\"Open In Colab\"/></a>"
      ]
    },
    {
      "cell_type": "markdown",
      "source": [
        "Praktikum 01"
      ],
      "metadata": {
        "id": "oOVSFhB06bdZ"
      }
    },
    {
      "cell_type": "code",
      "execution_count": null,
      "metadata": {
        "colab": {
          "base_uri": "https://localhost:8080/"
        },
        "id": "60mCTCls5qLQ",
        "outputId": "9818c0be-c7bb-4b7c-95da-cb78f54d8081"
      },
      "outputs": [
        {
          "output_type": "stream",
          "name": "stdout",
          "text": [
            "Definisi Kelas Abstrak 'KendaraanAbstrak' selesai.\n",
            "\n",
            "Contoh definisi kelas anak 'Mobil' selesai.\n",
            "Inisialisasi KendaraanAbstrak dengan merk: Toyota\n",
            "Mesin mobil Toyota dinyalakan.\n",
            "Merk kendaraan ini adalah Toyota\n",
            "Mesin mobil Toyota dimatikan.\n"
          ]
        }
      ],
      "source": [
        "# import kompenen yang diperlukan dari modul abc\n",
        "from abc import ABC, abstractmethod\n",
        "\n",
        "# 1. Definisikan lelas abstrak\n",
        "#    Kelas ini mewarisi dari ABC untuk menandakan bahwa ia adalah Abstract Base Class\n",
        "class KendaraanAbstrak (ABC) :\n",
        "    def __init__ (self, merk) :\n",
        "        self.merk = merk\n",
        "        print (f\"Inisialisasi KendaraanAbstrak dengan merk: {self.merk}\")\n",
        "\n",
        "    #metode konkret (tidak absrak)\n",
        "    #metode ini sudah memiliki implementasi dan bisa diwarisi langsung\n",
        "    def info_merk (self) :\n",
        "        print (f\"Merk kendaraan ini adalah {self.merk}\")\n",
        "\n",
        "    # 2. Definisikan metode Abstrak\n",
        "    #    Dekorator @abstractmethod menandakan metode ini wajib diimplementasikan (di-override) oleh subclass konkret\n",
        "    @abstractmethod\n",
        "    def start_mesin (self) :\n",
        "        #kode di dalam metode ini adalah implementasinya\n",
        "        print (f\"Mesin mobil {self.merk} dinyalakan.\") #mencetak status 'dinyalakan'\n",
        "\n",
        "        # kelas mobil ini juga akan menjadi abstrak\n",
        "        def stop_mesin (self) :\n",
        "            # kode di dala, metode ini adalah implementasinya\n",
        "            print (f\"Mesin mobil {self.merk} dimatikan.\") #mencetak status 'dimatikan'\n",
        "\n",
        "#---Kode Utama ( hanya definisi belum ada inisialisasi kelas abstrak)---\n",
        "if __name__ == \"__main__\" :\n",
        "    print (\"Definisi Kelas Abstrak 'KendaraanAbstrak' selesai.\")\n",
        "    # contoh definisi kelas anak (konkret)\n",
        "    # kelas ini mewarisi KendaraanAbstrak\n",
        "    class Mobil (KendaraanAbstrak) :\n",
        "         # implementasi metode abstrak start_mesin\n",
        "         def start_mesin (self) :\n",
        "             # kode di dalam metode ini adalah implementasinya\n",
        "             print (f\"Mesin mobil {self.merk} dinyalakan.\") #mencetak status 'dinyalakan'\n",
        "\n",
        "          # implementasi metode abstrak stop_mesin\n",
        "          # jika salah satu metoode abstrak tidak diimplementasi, kelas mobil ini juga menjadi abstrak\n",
        "         def stop_mesin (self) :\n",
        "             # kode di dalam metode ini adalah implementasinya\n",
        "             print (f\"Mesin mobil {self.merk} dimatikan.\") #mencetak status 'dimatikan'\n",
        "\n",
        "    print (\"\\nContoh definisi kelas anak 'Mobil' selesai.\")\n",
        "\n",
        "    #membuat objek dari kelas anak (konkret) diperbolehkan\n",
        "    mobil_contoh = Mobil (\"Toyota\")\n",
        "\n",
        "    #memanggil metode yang diimplemantasikan di kelas anak\n",
        "    mobil_contoh.start_mesin()\n",
        "\n",
        "    #memanggil metode konkret yang diwarisi dari kelas abstrak\n",
        "    mobil_contoh.info_merk()\n",
        "\n",
        "    #memanggil metode lain yang diimplementasikan di kelas anak\n",
        "    mobil_contoh.stop_mesin()"
      ]
    },
    {
      "cell_type": "markdown",
      "source": [
        "Praktikum 2"
      ],
      "metadata": {
        "id": "3Xh0nO5i04AS"
      }
    },
    {
      "cell_type": "code",
      "source": [
        "from abc import ABC, abstractmethod\n",
        "\n",
        "# Definisikan kelas abstrak\n",
        "class MediaAbstrak (ABC) :\n",
        "    def __init__ (self, judul) :\n",
        "        self.judul = judul\n",
        "        print (f\"Inisialisasi MediaAbstrak dengan judul : {self.judul}\")\n",
        "\n",
        "    @abstractmethod\n",
        "    def play (self) :\n",
        "        \"\"\"Metode abstrak untuk memulai pemutaran.\"\"\"\n",
        "        pass\n",
        "\n",
        "    @abstractmethod\n",
        "    def stop (self) :\n",
        "        \"\"\"Metode abstrak untuk menghentikan pemutaran.\"\"\"\n",
        "        pass\n",
        "\n",
        "#---Kode Utama---\n",
        "if __name__ == \"__main__\" :\n",
        "    print (\"Mencoba membuat objek dari kelas MediaAbstrak...\")\n",
        "\n",
        "    # Blok try-except untuk menangkap error yang diharapkan\n",
        "    try :\n",
        "         # baris ini akan menyebabkan TypeError karena MediaAbstrak\n",
        "         # memiliki metode abstrak (play dan stop) yang belum diimplementasi\n",
        "         media = MediaAbstrak (\"Konten Abstrak\")\n",
        "\n",
        "         # kode dibawah ini tidak akan pernah dijalankan jika error terjadi\n",
        "         print (\"Objek berhasil dibuat (SEHARUSNYA TIDAK TERJADI).\")\n",
        "         media.play()\n",
        "\n",
        "    except TypeError as e :\n",
        "        # menangkap dan menampilkan error TypeError\n",
        "         print (f\"\\nGAGAL membuar objek\")\n",
        "         print (f\"Error yang muncul (sesuai harapan) : {e}\")\n",
        "         print (\"\\nIni membuktikan bahwa kelas abstrak tidak bisa diinstansiasi\")\n",
        "         print (\"Jika masih memiliki metode abstrak yang belum diimplementasikan.\")"
      ],
      "metadata": {
        "id": "LXm0Qfux05qR",
        "outputId": "43594aac-7f8b-4633-cd62-7ccd8a81576b",
        "colab": {
          "base_uri": "https://localhost:8080/"
        }
      },
      "execution_count": null,
      "outputs": [
        {
          "output_type": "stream",
          "name": "stdout",
          "text": [
            "Mencoba membuat objek dari kelas MediaAbstrak...\n",
            "\n",
            "GAGAL membuar objek\n",
            "Error yang muncul (sesuai harapan) : Can't instantiate abstract class MediaAbstrak with abstract methods play, stop\n",
            "\n",
            "Ini membuktikan bahwa kelas abstrak tidak bisa diinstansiasi\n",
            "Jika masih memiliki metode abstrak yang belum diimplementasikan.\n"
          ]
        }
      ]
    },
    {
      "cell_type": "markdown",
      "source": [
        "Praktikum 3"
      ],
      "metadata": {
        "id": "KX6lurBsDQhR"
      }
    },
    {
      "cell_type": "code",
      "source": [
        "from abc import ABC, abstractmethod\n",
        "import locale\n",
        "import random #untuk simulasi\n",
        "\n",
        "# setting locale indonesia\n",
        "try :\n",
        "     locale.setlocale (locale.LC_ALL, 'id_ID.UTF-8')\n",
        "except locale.Error :\n",
        "     print (\"Locale id_ID.UTF-8 tidak tersedia, gunakan locale default.\")\n",
        "\n",
        "def format_rupiah (angka) :\n",
        "    return locale.currency (angka, grouping=True, symbol='Rp')\n",
        "\n",
        "\n",
        "#kelas abstrak\n",
        "class AlatPembayaranAbstrak (ABC) :\n",
        "    def __init__ (self, nama_metode) :\n",
        "        self.nama_metode = nama_metode\n",
        "        print (f\"inisialisasi alat pembayaran: {self.nama_metode}\")\n",
        "\n",
        "    def info (self) :\n",
        "        print (f\"Metode Pembayaran: {self.nama_metode}\")\n",
        "\n",
        "    @abstractmethod\n",
        "    def proses_pembayaran (self, jumlah) :\n",
        "        \"\"\"\n",
        "        Metode abstrak untuk memproses sejumlah 'jumlah.'\n",
        "        Harus diimplementasikan oleh subclass.\n",
        "        Harus mengembalikan True jika berhasil,False jika gagal.\n",
        "        \"\"\"\n",
        "        pass\n",
        "\n",
        "#--- Implementasi Subclass Konkret---\n",
        "# 1. subclass konkret pertama : kartu kredit\n",
        "class KartuKredit (AlatPembayaranAbstrak) :\n",
        "    def __init__ (self, nomor_kartu, nama_pemilik) :\n",
        "        super().__init__(\"Kartu Kredit\")\n",
        "        self.nomor_kartu = nomor_kartu [-4:] #simpan 4 digit\n",
        "        self.nama_pemilik = nama_pemilik\n",
        "        print (f\"-> Kartu Kredit ************{self.nomor_kartu} ({self.nama_pemilik}) siap.\")\n",
        "\n",
        "        #implementasi motode abstrak proses_pembayaran\n",
        "    def proses_pembayaran (self, jumlah) :\n",
        "        print (f\" Memproses pembayaran {format_rupiah(jumlah)} via Kartu Kredit ************{self.nomor_kartu}...\")\n",
        "        #simulasi keberhasilan/kegagalan\n",
        "        berhasil = random.choice ([True, False])\n",
        "        if berhasil :\n",
        "           print (\" Pembayaran Kartu Kredit Berhasil.\")\n",
        "           return True\n",
        "        else :\n",
        "           print (\" Pembayaran Kartu Kredit Gagal (Limit tidak cukup/Error).\")\n",
        "           return False\n",
        "\n",
        "# 2. subclass konkret kedua: Dompet Digital\n",
        "class DompetDigital (AlatPembayaranAbstrak) :\n",
        "    def __init__ (self, nomor_telepon, nama_provider) :\n",
        "        super().__init__(f\"Dompet Digital ({nama_provider})\")\n",
        "        self.nomor_telepon = nomor_telepon\n",
        "        self._saldo = random.randint (50000, 500000) #saldo awal acak\n",
        "        print (f\"-> Dompet Digital {self.nomor_telepon} siap (Saldo:{format_rupiah(self._saldo)}).\")\n",
        "\n",
        "    #implemetasi metode abstrak prses_pembayaran\n",
        "    def proses_pembayaran (self, jumlah) :\n",
        "      print (f\"Memproses pembayaran {format_rupiah(jumlah)} via Dompet Digital {self.nomor_telepon}...\")\n",
        "      if jumlah <= self._saldo :\n",
        "          self._saldo -= jumlah\n",
        "          print (\" Pembayaran Dompet Digital Berhasil.\")\n",
        "          print (f\" Saldo Tersisa: {format_rupiah(self._saldo)}\")\n",
        "          return True\n",
        "      else :\n",
        "            print (\" Pembayaran Dompet Digital Gagal (saldo tidak mencukupi)\")\n",
        "            print (f\" Saldo saat ini: {format_rupiah(self._saldo)}\")\n",
        "            return False\n",
        "\n",
        "#---kode utama---\n",
        "if __name__ == \"__main__\" :\n",
        "   print (\"\\nMembuat Objek Alat Pembayaran...\")\n",
        "   kartu_bca = KartuKredit (\"1234-5678-9012-3456\", \"Budi Cahyono\")\n",
        "   gopay = DompetDigital (\"08123456789\", \"GoPay\")\n",
        "\n",
        "   print (\"\\nMelakukan Pembayaran:\")\n",
        "\n",
        "   print (\"\\nMencoba bayar dengan Kartu Kredit:\")\n",
        "   kartu_bca.info()\n",
        "   status_KK = kartu_bca.proses_pembayaran (150000)\n",
        "   print (f\" Status Transaksi KK: {'Sukses' if status_KK else 'Gagal'}\")\n",
        "\n",
        "   print (\"\\nMencoba bayar dengan GoPay (Jumlah Kecil):\")\n",
        "   gopay.info()\n",
        "   status_gopay1 = gopay.proses_pembayaran (75000)\n",
        "   print (f\" Status Transaksi Gopay 1:{'Sukses' if status_gopay1 else 'Gagal'}\")\n",
        "\n",
        "   print (\"\\nMencoba bayar dengan GoPay (Jumlah Besar):\")\n",
        "   gopay.info()\n",
        "   status_gopay2 = gopay.proses_pembayaran (1000000)#kemungkinan gagal karena saldo\n",
        "   print (f\" Status Transaksi GoPay 2: {'Sukses' if status_gopay2 else 'Gagal'}\")"
      ],
      "metadata": {
        "id": "iVxUmS2aDQIS",
        "outputId": "59dd019f-c5d2-4b68-d1a9-c2385b92cefb",
        "colab": {
          "base_uri": "https://localhost:8080/",
          "height": 460
        }
      },
      "execution_count": 13,
      "outputs": [
        {
          "output_type": "stream",
          "name": "stdout",
          "text": [
            "Locale id_ID.UTF-8 tidak tersedia, gunakan locale default.\n",
            "\n",
            "Membuat Objek Alat Pembayaran...\n",
            "inisialisasi alat pembayaran: Kartu Kredit\n",
            "-> Kartu Kredit ************3456 (Budi Cahyono) siap.\n",
            "inisialisasi alat pembayaran: Dompet Digital (GoPay)\n"
          ]
        },
        {
          "output_type": "error",
          "ename": "ValueError",
          "evalue": "Currency formatting is not possible using the 'C' locale.",
          "traceback": [
            "\u001b[0;31m---------------------------------------------------------------------------\u001b[0m",
            "\u001b[0;31mValueError\u001b[0m                                Traceback (most recent call last)",
            "\u001b[0;32m<ipython-input-13-5b0552a5c6c4>\u001b[0m in \u001b[0;36m<cell line: 0>\u001b[0;34m()\u001b[0m\n\u001b[1;32m     77\u001b[0m    \u001b[0mprint\u001b[0m \u001b[0;34m(\u001b[0m\u001b[0;34m\"\\nMembuat Objek Alat Pembayaran...\"\u001b[0m\u001b[0;34m)\u001b[0m\u001b[0;34m\u001b[0m\u001b[0;34m\u001b[0m\u001b[0m\n\u001b[1;32m     78\u001b[0m    \u001b[0mkartu_bca\u001b[0m \u001b[0;34m=\u001b[0m \u001b[0mKartuKredit\u001b[0m \u001b[0;34m(\u001b[0m\u001b[0;34m\"1234-5678-9012-3456\"\u001b[0m\u001b[0;34m,\u001b[0m \u001b[0;34m\"Budi Cahyono\"\u001b[0m\u001b[0;34m)\u001b[0m\u001b[0;34m\u001b[0m\u001b[0;34m\u001b[0m\u001b[0m\n\u001b[0;32m---> 79\u001b[0;31m    \u001b[0mgopay\u001b[0m \u001b[0;34m=\u001b[0m \u001b[0mDompetDigital\u001b[0m \u001b[0;34m(\u001b[0m\u001b[0;34m\"08123456789\"\u001b[0m\u001b[0;34m,\u001b[0m \u001b[0;34m\"GoPay\"\u001b[0m\u001b[0;34m)\u001b[0m\u001b[0;34m\u001b[0m\u001b[0;34m\u001b[0m\u001b[0m\n\u001b[0m\u001b[1;32m     80\u001b[0m \u001b[0;34m\u001b[0m\u001b[0m\n\u001b[1;32m     81\u001b[0m    \u001b[0mprint\u001b[0m \u001b[0;34m(\u001b[0m\u001b[0;34m\"\\nMelakukan Pembayaran:\"\u001b[0m\u001b[0;34m)\u001b[0m\u001b[0;34m\u001b[0m\u001b[0;34m\u001b[0m\u001b[0m\n",
            "\u001b[0;32m<ipython-input-13-5b0552a5c6c4>\u001b[0m in \u001b[0;36m__init__\u001b[0;34m(self, nomor_telepon, nama_provider)\u001b[0m\n\u001b[1;32m     58\u001b[0m         \u001b[0mself\u001b[0m\u001b[0;34m.\u001b[0m\u001b[0mnomor_telepon\u001b[0m \u001b[0;34m=\u001b[0m \u001b[0mnomor_telepon\u001b[0m\u001b[0;34m\u001b[0m\u001b[0;34m\u001b[0m\u001b[0m\n\u001b[1;32m     59\u001b[0m         \u001b[0mself\u001b[0m\u001b[0;34m.\u001b[0m\u001b[0m_saldo\u001b[0m \u001b[0;34m=\u001b[0m \u001b[0mrandom\u001b[0m\u001b[0;34m.\u001b[0m\u001b[0mrandint\u001b[0m \u001b[0;34m(\u001b[0m\u001b[0;36m50000\u001b[0m\u001b[0;34m,\u001b[0m \u001b[0;36m500000\u001b[0m\u001b[0;34m)\u001b[0m \u001b[0;31m#saldo awal acak\u001b[0m\u001b[0;34m\u001b[0m\u001b[0;34m\u001b[0m\u001b[0m\n\u001b[0;32m---> 60\u001b[0;31m         \u001b[0mprint\u001b[0m \u001b[0;34m(\u001b[0m\u001b[0;34mf\"-> Dompet Digital {self.nomor_telepon} siap (Saldo:{format_rupiah(self._saldo)}).\"\u001b[0m\u001b[0;34m)\u001b[0m\u001b[0;34m\u001b[0m\u001b[0;34m\u001b[0m\u001b[0m\n\u001b[0m\u001b[1;32m     61\u001b[0m \u001b[0;34m\u001b[0m\u001b[0m\n\u001b[1;32m     62\u001b[0m     \u001b[0;31m#implemetasi metode abstrak prses_pembayaran\u001b[0m\u001b[0;34m\u001b[0m\u001b[0;34m\u001b[0m\u001b[0m\n",
            "\u001b[0;32m<ipython-input-13-5b0552a5c6c4>\u001b[0m in \u001b[0;36mformat_rupiah\u001b[0;34m(angka)\u001b[0m\n\u001b[1;32m     10\u001b[0m \u001b[0;34m\u001b[0m\u001b[0m\n\u001b[1;32m     11\u001b[0m \u001b[0;32mdef\u001b[0m \u001b[0mformat_rupiah\u001b[0m \u001b[0;34m(\u001b[0m\u001b[0mangka\u001b[0m\u001b[0;34m)\u001b[0m \u001b[0;34m:\u001b[0m\u001b[0;34m\u001b[0m\u001b[0;34m\u001b[0m\u001b[0m\n\u001b[0;32m---> 12\u001b[0;31m     \u001b[0;32mreturn\u001b[0m \u001b[0mlocale\u001b[0m\u001b[0;34m.\u001b[0m\u001b[0mcurrency\u001b[0m \u001b[0;34m(\u001b[0m\u001b[0mangka\u001b[0m\u001b[0;34m,\u001b[0m \u001b[0mgrouping\u001b[0m\u001b[0;34m=\u001b[0m\u001b[0;32mTrue\u001b[0m\u001b[0;34m,\u001b[0m \u001b[0msymbol\u001b[0m\u001b[0;34m=\u001b[0m\u001b[0;34m'Rp'\u001b[0m\u001b[0;34m)\u001b[0m\u001b[0;34m\u001b[0m\u001b[0;34m\u001b[0m\u001b[0m\n\u001b[0m\u001b[1;32m     13\u001b[0m \u001b[0;34m\u001b[0m\u001b[0m\n\u001b[1;32m     14\u001b[0m \u001b[0;34m\u001b[0m\u001b[0m\n",
            "\u001b[0;32m/usr/lib/python3.11/locale.py\u001b[0m in \u001b[0;36mcurrency\u001b[0;34m(val, symbol, grouping, international)\u001b[0m\n\u001b[1;32m    271\u001b[0m     \u001b[0mdigits\u001b[0m \u001b[0;34m=\u001b[0m \u001b[0mconv\u001b[0m\u001b[0;34m[\u001b[0m\u001b[0minternational\u001b[0m \u001b[0;32mand\u001b[0m \u001b[0;34m'int_frac_digits'\u001b[0m \u001b[0;32mor\u001b[0m \u001b[0;34m'frac_digits'\u001b[0m\u001b[0;34m]\u001b[0m\u001b[0;34m\u001b[0m\u001b[0;34m\u001b[0m\u001b[0m\n\u001b[1;32m    272\u001b[0m     \u001b[0;32mif\u001b[0m \u001b[0mdigits\u001b[0m \u001b[0;34m==\u001b[0m \u001b[0;36m127\u001b[0m\u001b[0;34m:\u001b[0m\u001b[0;34m\u001b[0m\u001b[0;34m\u001b[0m\u001b[0m\n\u001b[0;32m--> 273\u001b[0;31m         raise ValueError(\"Currency formatting is not possible using \"\n\u001b[0m\u001b[1;32m    274\u001b[0m                          \"the 'C' locale.\")\n\u001b[1;32m    275\u001b[0m \u001b[0;34m\u001b[0m\u001b[0m\n",
            "\u001b[0;31mValueError\u001b[0m: Currency formatting is not possible using the 'C' locale."
          ]
        }
      ]
    }
  ]
}