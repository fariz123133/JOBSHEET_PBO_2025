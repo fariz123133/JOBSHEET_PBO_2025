{
  "nbformat": 4,
  "nbformat_minor": 0,
  "metadata": {
    "colab": {
      "provenance": [],
      "authorship_tag": "ABX9TyOAN6ExDodQTRnRjJjlPEkp",
      "include_colab_link": true
    },
    "kernelspec": {
      "name": "python3",
      "display_name": "Python 3"
    },
    "language_info": {
      "name": "python"
    }
  },
  "cells": [
    {
      "cell_type": "markdown",
      "metadata": {
        "id": "view-in-github",
        "colab_type": "text"
      },
      "source": [
        "<a href=\"https://colab.research.google.com/github/fariz123133/JOBSHEET_PBO_2025/blob/main/Jobsheet_6.ipynb\" target=\"_parent\"><img src=\"https://colab.research.google.com/assets/colab-badge.svg\" alt=\"Open In Colab\"/></a>"
      ]
    },
    {
      "cell_type": "markdown",
      "source": [
        "Praktikum 01"
      ],
      "metadata": {
        "id": "oOVSFhB06bdZ"
      }
    },
    {
      "cell_type": "code",
      "execution_count": null,
      "metadata": {
        "colab": {
          "base_uri": "https://localhost:8080/"
        },
        "id": "60mCTCls5qLQ",
        "outputId": "9818c0be-c7bb-4b7c-95da-cb78f54d8081"
      },
      "outputs": [
        {
          "output_type": "stream",
          "name": "stdout",
          "text": [
            "Definisi Kelas Abstrak 'KendaraanAbstrak' selesai.\n",
            "\n",
            "Contoh definisi kelas anak 'Mobil' selesai.\n",
            "Inisialisasi KendaraanAbstrak dengan merk: Toyota\n",
            "Mesin mobil Toyota dinyalakan.\n",
            "Merk kendaraan ini adalah Toyota\n",
            "Mesin mobil Toyota dimatikan.\n"
          ]
        }
      ],
      "source": [
        "# import kompenen yang diperlukan dari modul abc\n",
        "from abc import ABC, abstractmethod\n",
        "\n",
        "# 1. Definisikan lelas abstrak\n",
        "#    Kelas ini mewarisi dari ABC untuk menandakan bahwa ia adalah Abstract Base Class\n",
        "class KendaraanAbstrak (ABC) :\n",
        "    def __init__ (self, merk) :\n",
        "        self.merk = merk\n",
        "        print (f\"Inisialisasi KendaraanAbstrak dengan merk: {self.merk}\")\n",
        "\n",
        "    #metode konkret (tidak absrak)\n",
        "    #metode ini sudah memiliki implementasi dan bisa diwarisi langsung\n",
        "    def info_merk (self) :\n",
        "        print (f\"Merk kendaraan ini adalah {self.merk}\")\n",
        "\n",
        "    # 2. Definisikan metode Abstrak\n",
        "    #    Dekorator @abstractmethod menandakan metode ini wajib diimplementasikan (di-override) oleh subclass konkret\n",
        "    @abstractmethod\n",
        "    def start_mesin (self) :\n",
        "        #kode di dalam metode ini adalah implementasinya\n",
        "        print (f\"Mesin mobil {self.merk} dinyalakan.\") #mencetak status 'dinyalakan'\n",
        "\n",
        "        # kelas mobil ini juga akan menjadi abstrak\n",
        "        def stop_mesin (self) :\n",
        "            # kode di dala, metode ini adalah implementasinya\n",
        "            print (f\"Mesin mobil {self.merk} dimatikan.\") #mencetak status 'dimatikan'\n",
        "\n",
        "#---Kode Utama ( hanya definisi belum ada inisialisasi kelas abstrak)---\n",
        "if __name__ == \"__main__\" :\n",
        "    print (\"Definisi Kelas Abstrak 'KendaraanAbstrak' selesai.\")\n",
        "    # contoh definisi kelas anak (konkret)\n",
        "    # kelas ini mewarisi KendaraanAbstrak\n",
        "    class Mobil (KendaraanAbstrak) :\n",
        "         # implementasi metode abstrak start_mesin\n",
        "         def start_mesin (self) :\n",
        "             # kode di dalam metode ini adalah implementasinya\n",
        "             print (f\"Mesin mobil {self.merk} dinyalakan.\") #mencetak status 'dinyalakan'\n",
        "\n",
        "          # implementasi metode abstrak stop_mesin\n",
        "          # jika salah satu metoode abstrak tidak diimplementasi, kelas mobil ini juga menjadi abstrak\n",
        "         def stop_mesin (self) :\n",
        "             # kode di dalam metode ini adalah implementasinya\n",
        "             print (f\"Mesin mobil {self.merk} dimatikan.\") #mencetak status 'dimatikan'\n",
        "\n",
        "    print (\"\\nContoh definisi kelas anak 'Mobil' selesai.\")\n",
        "\n",
        "    #membuat objek dari kelas anak (konkret) diperbolehkan\n",
        "    mobil_contoh = Mobil (\"Toyota\")\n",
        "\n",
        "    #memanggil metode yang diimplemantasikan di kelas anak\n",
        "    mobil_contoh.start_mesin()\n",
        "\n",
        "    #memanggil metode konkret yang diwarisi dari kelas abstrak\n",
        "    mobil_contoh.info_merk()\n",
        "\n",
        "    #memanggil metode lain yang diimplementasikan di kelas anak\n",
        "    mobil_contoh.stop_mesin()"
      ]
    }
  ]
}