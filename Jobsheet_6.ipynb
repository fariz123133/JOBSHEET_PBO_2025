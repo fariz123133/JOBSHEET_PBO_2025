{
  "nbformat": 4,
  "nbformat_minor": 0,
  "metadata": {
    "colab": {
      "provenance": [],
      "authorship_tag": "ABX9TyPiV7TBz3KCpkcEoyFoBKAc",
      "include_colab_link": true
    },
    "kernelspec": {
      "name": "python3",
      "display_name": "Python 3"
    },
    "language_info": {
      "name": "python"
    }
  },
  "cells": [
    {
      "cell_type": "markdown",
      "metadata": {
        "id": "view-in-github",
        "colab_type": "text"
      },
      "source": [
        "<a href=\"https://colab.research.google.com/github/fariz123133/JOBSHEET_PBO_2025/blob/main/Jobsheet_6.ipynb\" target=\"_parent\"><img src=\"https://colab.research.google.com/assets/colab-badge.svg\" alt=\"Open In Colab\"/></a>"
      ]
    },
    {
      "cell_type": "markdown",
      "source": [
        "Praktikum 01"
      ],
      "metadata": {
        "id": "oOVSFhB06bdZ"
      }
    },
    {
      "cell_type": "code",
      "execution_count": null,
      "metadata": {
        "colab": {
          "base_uri": "https://localhost:8080/"
        },
        "id": "60mCTCls5qLQ",
        "outputId": "054bebd9-b400-4999-8844-d18e082298b6"
      },
      "outputs": [
        {
          "output_type": "stream",
          "name": "stdout",
          "text": [
            "Definisi Kelas Abstrak 'KendaraanAbstrak' selesai.\n",
            "\n",
            "Contoh definisi kelas anak 'Mobil' selesai.\n",
            "Inisialisasi KendaraanAbstrak dengan merk: Toyota\n",
            "Mesin mobil Toyota dinyalakan.\n",
            "Merk kendaraan ini adalah Toyota\n",
            "Mesin mobil Toyota dimatikan.\n"
          ]
        }
      ],
      "source": [
        "# import kompenen yang diperlukan dari modul abc\n",
        "from abc import ABC, abstractmethod\n",
        "\n",
        "# 1. Definisikan lelas abstrak\n",
        "#    Kelas ini mewarisi dari ABC untuk menandakan bahwa ia adalah Abstract Base Class\n",
        "class KendaraanAbstrak (ABC) :\n",
        "    def __init__ (self, merk) :\n",
        "        self.merk = merk\n",
        "        print (f\"Inisialisasi KendaraanAbstrak dengan merk: {self.merk}\")\n",
        "\n",
        "    #metode konkret (tidak absrak)\n",
        "    #metode ini sudah memiliki implementasi dan bisa diwarisi langsung\n",
        "    def info_merk (self) :\n",
        "        print (f\"Merk kendaraan ini adalah {self.merk}\")\n",
        "\n",
        "    # 2. Definisikan metode Abstrak\n",
        "    #    Dekorator @abstractmethod menandakan metode ini wajib diimplementasikan (di-override) oleh subclass konkret\n",
        "    @abstractmethod\n",
        "    def start_mesin (self) :\n",
        "        #kode di dalam metode ini adalah implementasinya\n",
        "        print (f\"Mesin mobil {self.merk} dinyalakan.\") #mencetak status 'dinyalakan'\n",
        "\n",
        "        # kelas mobil ini juga akan menjadi abstrak\n",
        "        def stop_mesin (self) :\n",
        "            # kode di dala, metode ini adalah implementasinya\n",
        "            print (f\"Mesin mobil {self.merk} dimatikan.\") #mencetak status 'dimatikan'\n",
        "\n",
        "#---Kode Utama ( hanya definisi belum ada inisialisasi kelas abstrak)---\n",
        "if __name__ == \"__main__\" :\n",
        "    print (\"Definisi Kelas Abstrak 'KendaraanAbstrak' selesai.\")\n",
        "    # contoh definisi kelas anak (konkret)\n",
        "    # kelas ini mewarisi KendaraanAbstrak\n",
        "    class Mobil (KendaraanAbstrak) :\n",
        "         # implementasi metode abstrak start_mesin\n",
        "         def start_mesin (self) :\n",
        "             # kode di dalam metode ini adalah implementasinya\n",
        "             print (f\"Mesin mobil {self.merk} dinyalakan.\") #mencetak status 'dinyalakan'\n",
        "\n",
        "          # implementasi metode abstrak stop_mesin\n",
        "          # jika salah satu metoode abstrak tidak diimplementasi, kelas mobil ini juga menjadi abstrak\n",
        "         def stop_mesin (self) :\n",
        "             # kode di dalam metode ini adalah implementasinya\n",
        "             print (f\"Mesin mobil {self.merk} dimatikan.\") #mencetak status 'dimatikan'\n",
        "\n",
        "    print (\"\\nContoh definisi kelas anak 'Mobil' selesai.\")\n",
        "\n",
        "    #membuat objek dari kelas anak (konkret) diperbolehkan\n",
        "    mobil_contoh = Mobil (\"Toyota\")\n",
        "\n",
        "    #memanggil metode yang diimplemantasikan di kelas anak\n",
        "    mobil_contoh.start_mesin()\n",
        "\n",
        "    #memanggil metode konkret yang diwarisi dari kelas abstrak\n",
        "    mobil_contoh.info_merk()\n",
        "\n",
        "    #memanggil metode lain yang diimplementasikan di kelas anak\n",
        "    mobil_contoh.stop_mesin()"
      ]
    },
    {
      "cell_type": "markdown",
      "source": [
        "Praktikum 2"
      ],
      "metadata": {
        "id": "3Xh0nO5i04AS"
      }
    },
    {
      "cell_type": "code",
      "source": [
        "from abc import ABC, abstractmethod\n",
        "\n",
        "# Definisikan kelas abstrak\n",
        "class MediaAbstrak (ABC) :\n",
        "    def __init__ (self, judul) :\n",
        "        self.judul = judul\n",
        "        print (f\"Inisialisasi MediaAbstrak dengan judul : {self.judul}\")\n",
        "\n",
        "    @abstractmethod\n",
        "    def play (self) :\n",
        "        \"\"\"Metode abstrak untuk memulai pemutaran.\"\"\"\n",
        "        pass\n",
        "\n",
        "    @abstractmethod\n",
        "    def stop (self) :\n",
        "        \"\"\"Metode abstrak untuk menghentikan pemutaran.\"\"\"\n",
        "        pass\n",
        "\n",
        "#---Kode Utama---\n",
        "if __name__ == \"__main__\" :\n",
        "    print (\"Mencoba membuat objek dari kelas MediaAbstrak...\")\n",
        "\n",
        "    # Blok try-except untuk menangkap error yang diharapkan\n",
        "    try :\n",
        "         # baris ini akan menyebabkan TypeError karena MediaAbstrak\n",
        "         # memiliki metode abstrak (play dan stop) yang belum diimplementasi\n",
        "         media = MediaAbstrak (\"Konten Abstrak\")\n",
        "\n",
        "         # kode dibawah ini tidak akan pernah dijalankan jika error terjadi\n",
        "         print (\"Objek berhasil dibuat (SEHARUSNYA TIDAK TERJADI).\")\n",
        "         media.play()\n",
        "\n",
        "    except TypeError as e :\n",
        "        # menangkap dan menampilkan error TypeError\n",
        "         print (f\"\\nGAGAL membuar objek\")\n",
        "         print (f\"Error yang muncul (sesuai harapan) : {e}\")\n",
        "         print (\"\\nIni membuktikan bahwa kelas abstrak tidak bisa diinstansiasi\")\n",
        "         print (\"Jika masih memiliki metode abstrak yang belum diimplementasikan.\")"
      ],
      "metadata": {
        "id": "LXm0Qfux05qR",
        "outputId": "e52007f3-e27a-4569-b8a8-fe03bed62cbc",
        "colab": {
          "base_uri": "https://localhost:8080/"
        }
      },
      "execution_count": null,
      "outputs": [
        {
          "output_type": "stream",
          "name": "stdout",
          "text": [
            "Mencoba membuat objek dari kelas MediaAbstrak...\n",
            "\n",
            "GAGAL membuar objek\n",
            "Error yang muncul (sesuai harapan) : Can't instantiate abstract class MediaAbstrak with abstract methods play, stop\n",
            "\n",
            "Ini membuktikan bahwa kelas abstrak tidak bisa diinstansiasi\n",
            "Jika masih memiliki metode abstrak yang belum diimplementasikan.\n"
          ]
        }
      ]
    },
    {
      "cell_type": "markdown",
      "source": [
        "Praktikum 3"
      ],
      "metadata": {
        "id": "KX6lurBsDQhR"
      }
    },
    {
      "cell_type": "code",
      "source": [
        "!apt-get install -y locales\n",
        "!loale-gen id_ID.UTF-8\n",
        "!update-locale"
      ],
      "metadata": {
        "id": "6MxJmNeRU3Qc",
        "outputId": "7d1963f6-d1fa-42e4-fdcb-9330d4eccc76",
        "colab": {
          "base_uri": "https://localhost:8080/"
        }
      },
      "execution_count": null,
      "outputs": [
        {
          "output_type": "stream",
          "name": "stdout",
          "text": [
            "Reading package lists... Done\n",
            "Building dependency tree... Done\n",
            "Reading state information... Done\n",
            "locales is already the newest version (2.35-0ubuntu3.9).\n",
            "0 upgraded, 0 newly installed, 0 to remove and 35 not upgraded.\n",
            "/bin/bash: line 1: loale-gen: command not found\n"
          ]
        }
      ]
    },
    {
      "cell_type": "code",
      "source": [
        "from abc import ABC, abstractmethod\n",
        "import locale\n",
        "import random #untuk simulasi\n",
        "\n",
        "# setting locale indonesia\n",
        "try :\n",
        "     locale.setlocale (locale.LC_ALL, 'id_ID.UTF-8')\n",
        "except locale.Error :\n",
        "     print (\"Locale id_ID.UTF-8 tidak tersedia, gunakan locale default.\")\n",
        "     locale.setlocale (locale.LC_ALL, '')\n",
        "def format_rupiah (angka) :\n",
        "    return locale.currency (angka, grouping=True, symbol='Rp')\n",
        "\n",
        "\n",
        "#kelas abstrak\n",
        "class AlatPembayaranAbstrak (ABC) :\n",
        "    def __init__ (self, nama_metode) :\n",
        "        self.nama_metode = nama_metode\n",
        "        print (f\"inisialisasi alat pembayaran: {self.nama_metode}\")\n",
        "\n",
        "    def info (self) :\n",
        "        print (f\"Metode Pembayaran: {self.nama_metode}\")\n",
        "\n",
        "    @abstractmethod\n",
        "    def proses_pembayaran (self, jumlah) :\n",
        "        \"\"\"\n",
        "        Metode abstrak untuk memproses sejumlah 'jumlah.'\n",
        "        Harus diimplementasikan oleh subclass.\n",
        "        Harus mengembalikan True jika berhasil,False jika gagal.\n",
        "        \"\"\"\n",
        "        pass\n",
        "\n",
        "#--- Implementasi Subclass Konkret---\n",
        "# 1. subclass konkret pertama : kartu kredit\n",
        "class KartuKredit (AlatPembayaranAbstrak) :\n",
        "    def __init__ (self, nomor_kartu, nama_pemilik) :\n",
        "        super().__init__(\"Kartu Kredit\")\n",
        "        self.nomor_kartu = nomor_kartu [-4:] #simpan 4 digit\n",
        "        self.nama_pemilik = nama_pemilik\n",
        "        print (f\"-> Kartu Kredit ************{self.nomor_kartu} ({self.nama_pemilik}) siap.\")\n",
        "\n",
        "        #implementasi motode abstrak proses_pembayaran\n",
        "    def proses_pembayaran (self, jumlah) :\n",
        "        print (f\" Memproses pembayaran {format_rupiah(jumlah)} via Kartu Kredit ************{self.nomor_kartu}...\")\n",
        "        #simulasi keberhasilan/kegagalan\n",
        "        berhasil = random.choice ([True, False])\n",
        "        if berhasil :\n",
        "           print (\" Pembayaran Kartu Kredit Berhasil.\")\n",
        "           return True\n",
        "        else :\n",
        "           print (\" Pembayaran Kartu Kredit Gagal (Limit tidak cukup/Error).\")\n",
        "           return False\n",
        "\n",
        "# 2. subclass konkret kedua: Dompet Digital\n",
        "class DompetDigital (AlatPembayaranAbstrak) :\n",
        "    def __init__ (self, nomor_telepon, nama_provider) :\n",
        "        super().__init__(f\"Dompet Digital ({nama_provider})\")\n",
        "        self.nomor_telepon = nomor_telepon\n",
        "        self._saldo = random.randint (50000, 500000) #saldo awal acak\n",
        "        print (f\"-> Dompet Digital {self.nomor_telepon} siap (Saldo:{format_rupiah(self._saldo)}).\")\n",
        "\n",
        "    #implemetasi metode abstrak prses_pembayaran\n",
        "    def proses_pembayaran (self, jumlah) :\n",
        "      print (f\"Memproses pembayaran {format_rupiah(jumlah)} via Dompet Digital {self.nomor_telepon}...\")\n",
        "      if jumlah <= self._saldo :\n",
        "          self._saldo -= jumlah\n",
        "          print (\" Pembayaran Dompet Digital Berhasil.\")\n",
        "          print (f\" Saldo Tersisa: {format_rupiah(self._saldo)}\")\n",
        "          return True\n",
        "      else :\n",
        "            print (\" Pembayaran Dompet Digital Gagal (saldo tidak mencukupi)\")\n",
        "            print (f\" Saldo saat ini: {format_rupiah(self._saldo)}\")\n",
        "            return False\n",
        "\n",
        "#---kode utama---\n",
        "if __name__ == \"__main__\" :\n",
        "   print (\"\\nMembuat Objek Alat Pembayaran...\")\n",
        "   kartu_bca = KartuKredit (\"1234-5678-9012-3456\", \"Budi Cahyono\")\n",
        "   gopay = DompetDigital (\"08123456789\", \"GoPay\")\n",
        "\n",
        "   print (\"\\nMelakukan Pembayaran:\")\n",
        "\n",
        "   print (\"\\nMencoba bayar dengan Kartu Kredit:\")\n",
        "   kartu_bca.info()\n",
        "   status_KK = kartu_bca.proses_pembayaran (150000)\n",
        "   print (f\" Status Transaksi KK: {'Sukses' if status_KK else 'Gagal'}\")\n",
        "\n",
        "   print (\"\\nMencoba bayar dengan GoPay (Jumlah Kecil):\")\n",
        "   gopay.info()\n",
        "   status_gopay1 = gopay.proses_pembayaran (75000)\n",
        "   print (f\" Status Transaksi Gopay 1:{'Sukses' if status_gopay1 else 'Gagal'}\")\n",
        "\n",
        "   print (\"\\nMencoba bayar dengan GoPay (Jumlah Besar):\")\n",
        "   gopay.info()\n",
        "   status_gopay2 = gopay.proses_pembayaran (1000000)#kemungkinan gagal karena saldo\n",
        "   print (f\" Status Transaksi GoPay 2: {'Sukses' if status_gopay2 else 'Gagal'}\")"
      ],
      "metadata": {
        "id": "iVxUmS2aDQIS",
        "outputId": "3a19268a-e7d6-4c1c-b8ba-5f9425eff9db",
        "colab": {
          "base_uri": "https://localhost:8080/"
        }
      },
      "execution_count": null,
      "outputs": [
        {
          "output_type": "stream",
          "name": "stdout",
          "text": [
            "Locale id_ID.UTF-8 tidak tersedia, gunakan locale default.\n",
            "\n",
            "Membuat Objek Alat Pembayaran...\n",
            "inisialisasi alat pembayaran: Kartu Kredit\n",
            "-> Kartu Kredit ************3456 (Budi Cahyono) siap.\n",
            "inisialisasi alat pembayaran: Dompet Digital (GoPay)\n",
            "-> Dompet Digital 08123456789 siap (Saldo:$402,683.00).\n",
            "\n",
            "Melakukan Pembayaran:\n",
            "\n",
            "Mencoba bayar dengan Kartu Kredit:\n",
            "Metode Pembayaran: Kartu Kredit\n",
            " Memproses pembayaran $150,000.00 via Kartu Kredit ************3456...\n",
            " Pembayaran Kartu Kredit Gagal (Limit tidak cukup/Error).\n",
            " Status Transaksi KK: Gagal\n",
            "\n",
            "Mencoba bayar dengan GoPay (Jumlah Kecil):\n",
            "Metode Pembayaran: Dompet Digital (GoPay)\n",
            "Memproses pembayaran $75,000.00 via Dompet Digital 08123456789...\n",
            " Pembayaran Dompet Digital Berhasil.\n",
            " Saldo Tersisa: $327,683.00\n",
            " Status Transaksi Gopay 1:Sukses\n",
            "\n",
            "Mencoba bayar dengan GoPay (Jumlah Besar):\n",
            "Metode Pembayaran: Dompet Digital (GoPay)\n",
            "Memproses pembayaran $1,000,000.00 via Dompet Digital 08123456789...\n",
            " Pembayaran Dompet Digital Gagal (saldo tidak mencukupi)\n",
            " Saldo saat ini: $327,683.00\n",
            " Status Transaksi GoPay 2: Gagal\n"
          ]
        }
      ]
    },
    {
      "cell_type": "markdown",
      "source": [
        "Praktikum 4"
      ],
      "metadata": {
        "id": "znoL2RWlWMHz"
      }
    },
    {
      "cell_type": "code",
      "source": [
        "from abc import ABC, abstractmethod\n",
        "import time\n",
        "\n",
        "#---kelas abstrak---\n",
        "class DokumenAbstrak (ABC) :\n",
        "    def __init__ (self, nama_file) :\n",
        "        self.nama_file = nama_file\n",
        "        print (f\"Inisialisasi Dokumen: {self.nama_file}\")\n",
        "\n",
        "    def info_file (self) :\n",
        "        print (f\"Nama File : {self.nama_file}\")\n",
        "\n",
        "    @abstractmethod\n",
        "    def cetak (self) :\n",
        "        \"\"\"Metode Abstrak untuk mencetak dokumen.\"\"\"\n",
        "        pass\n",
        "\n",
        "    @abstractmethod\n",
        "    def simpan (self) :\n",
        "        \"\"\"Metode Abstrak untuk menyimpan dokumen.\"\"\"\n",
        "        pass\n",
        "\n",
        "#---subclass konkret 1---\n",
        "class DokumenTeks (DokumenAbstrak) :\n",
        "    def __init__(self, nama_file, isi_teks) :\n",
        "        super().__init__(nama_file)\n",
        "        self.isi_teks = isi_teks\n",
        "        print (\" ->Tipe: Dokumen Teks\")\n",
        "\n",
        "    def cetak (self) :\n",
        "        print (f\"Mencetak Dokumen Teks '{self.nama_file}':\")\n",
        "        print (\"=\"*15)\n",
        "        print (self.isi_teks)\n",
        "        print (\"=\"*15)\n",
        "\n",
        "    def simpan (self) :\n",
        "        print(f\"Menyimpan Dokumen Teks'{self.nama_file}' ke disk...\")\n",
        "        #logika penyimpanan file teks...\n",
        "        time.sleep(0.2) #simulasi\n",
        "        print (\" -> Berhasil Disimpan.\")\n",
        "\n",
        "#---subclass konkret 2---\n",
        "class SpreadSheet (DokumenAbstrak) :\n",
        "    def __init__ (self, nama_file, jumlah_baris, jumlah_kolom) :\n",
        "        super().__init__(nama_file)\n",
        "        self.baris = jumlah_baris\n",
        "        self.kolom = jumlah_kolom\n",
        "        print (\" -> Tipe: SpreadSheet\")\n",
        "\n",
        "    def cetak (self) :\n",
        "        print (f\"Mencetak SpreadSheet '{self.nama_file}' ({self.baris} baris, {self.kolom} kolom)...\")\n",
        "        #logika pratinjau cetak spreadsheet...\n",
        "        print (\" (Menampilkan pratinjau...)\")\n",
        "\n",
        "    def simpan (self) :\n",
        "        print (f\"Menyimpan SpreadSheet '{self.nama_file}'ke format .xlsx...\")\n",
        "        #logika penyimpanan spreadsheet...\n",
        "        time.sleep (0.3) #simulasi\n",
        "        print (\" ->Berhasil Disimpan.\")\n",
        "\n",
        "#---fungsi polimorfik---\n",
        "def proses_dokumen(daftar_dokumen) :\n",
        "    print (\"\\n======= MEMPROSES SEMUA DOKUMEN =======\")\n",
        "    for doc in daftar_dokumen :\n",
        "        print (f\"\\n--- Memproses {type(doc).__name__}: {doc.nama_file}---\")\n",
        "        try :\n",
        "             #memanggil metode secara polimorfik\n",
        "             doc.cetak()\n",
        "             doc.simpan()\n",
        "        except Exception as e :\n",
        "             print (f\"Error saat memproses {doc.nama_file}: {e}\")\n",
        "        print (\"\\n======= SELESAI MEMPROSES DOKUMEN =======\")\n",
        "\n",
        "#---Kode Utama---\n",
        "if __name__ == \"__main__\" :\n",
        "    print (\"Membuat Dokumen...\")\n",
        "    dok1 = DokumenTeks (\"laporan.txt\", \"INi adalah isi laporan singkat\")\n",
        "    dok2 = SpreadSheet (\"data_penjualan.xlsx\", 200, 15)\n",
        "    dok3 = DokumenTeks (\"catatan_rapat.txt\", \"Poin penting: \\n- Bahas budget\\n- Tentukan Timeline\")\n",
        "\n",
        "    koleksi_dokumen = [dok1, dok2, dok3]\n",
        "\n",
        "    #memanggil fungsi polimorfik\n",
        "    proses_dokumen (koleksi_dokumen)\n",
        "\n",
        "    #contoh memanggil metode spesifik (jika perlu)\n",
        "    #print (f\"\\nIsi teks dok1: \\n{dok1.isi_teks}\")"
      ],
      "metadata": {
        "id": "H_RPxdJYWJhO",
        "outputId": "9230a59b-27bd-44f1-d9f2-2a52bfd462c0",
        "colab": {
          "base_uri": "https://localhost:8080/"
        }
      },
      "execution_count": null,
      "outputs": [
        {
          "output_type": "stream",
          "name": "stdout",
          "text": [
            "Membuat Dokumen...\n",
            "Inisialisasi Dokumen: laporan.txt\n",
            " ->Tipe: Dokumen Teks\n",
            "Inisialisasi Dokumen: data_penjualan.xlsx\n",
            " -> Tipe: SpreadSheet\n",
            "Inisialisasi Dokumen: catatan_rapat.txt\n",
            " ->Tipe: Dokumen Teks\n",
            "\n",
            "======= MEMPROSES SEMUA DOKUMEN =======\n",
            "\n",
            "--- Memproses DokumenTeks: laporan.txt---\n",
            "Mencetak Dokumen Teks 'laporan.txt':\n",
            "===============\n",
            "INi adalah isi laporan singkat\n",
            "===============\n",
            "Menyimpan Dokumen Teks'laporan.txt' ke disk...\n",
            " -> Berhasil Disimpan.\n",
            "\n",
            "======= SELESAI MEMPROSES DOKUMEN =======\n",
            "\n",
            "--- Memproses SpreadSheet: data_penjualan.xlsx---\n",
            "Mencetak SpreadSheet 'data_penjualan.xlsx' (200 baris, 15 kolom)...\n",
            " (Menampilkan pratinjau...)\n",
            "Menyimpan SpreadSheet 'data_penjualan.xlsx'ke format .xlsx...\n",
            " ->Berhasil Disimpan.\n",
            "\n",
            "======= SELESAI MEMPROSES DOKUMEN =======\n",
            "\n",
            "--- Memproses DokumenTeks: catatan_rapat.txt---\n",
            "Mencetak Dokumen Teks 'catatan_rapat.txt':\n",
            "===============\n",
            "Poin penting: \n",
            "- Bahas budget\n",
            "- Tentukan Timeline\n",
            "===============\n",
            "Menyimpan Dokumen Teks'catatan_rapat.txt' ke disk...\n",
            " -> Berhasil Disimpan.\n",
            "\n",
            "======= SELESAI MEMPROSES DOKUMEN =======\n"
          ]
        }
      ]
    },
    {
      "cell_type": "markdown",
      "source": [
        "Praktikum 5"
      ],
      "metadata": {
        "id": "VYioMm9ZqdQv"
      }
    },
    {
      "cell_type": "code",
      "source": [
        "from abc import ABC, abstractmethod\n",
        "import math\n",
        "\n",
        "#kelas abstrak\n",
        "class BangunDatarAbstrak (ABC) :\n",
        "    def __init__ (self, nama) :\n",
        "        # menggunakan underscore tunggal untuk konveksi 'protected'\n",
        "        self._nama = nama\n",
        "        print (f\"Inisialisasi BangunDatarAbstrak: {self._nama}\")\n",
        "\n",
        "    def info (self) :\n",
        "        print (f\"Inisialisasi BangunDatarAbstrak: {self._nama}\")\n",
        "\n",
        "    # metode konkret\n",
        "    # metode ini meiliki implementasi dan bisa langsung digunakan sebclass.\n",
        "    @property # dijadikan property untuk aksess nama yang lebih pythonic\n",
        "    def nama (self) :\n",
        "        \"\"\"Getter untuk nama bangun datar.\"\"\"\n",
        "        return self._nama\n",
        "\n",
        "    # metode konkret lainnya\n",
        "    # metode ini bahkan memanggil metode (abstrak) lain dari self.\n",
        "    def info_lengkap (self) :\n",
        "        \"\"\"Menampilkan informasi lengkap termasuk luas dan keliling.\"\"\"\n",
        "        print (f\"\\n--- Info lengkap: {self._nama} ---\")\n",
        "        try :\n",
        "             luas = self.hitung_luas() # memanggil metode yang akan di override\n",
        "             print (f\"  Luas  : {luas:.2f}\")\n",
        "        except NotImplementedError :\n",
        "             print (\"  Luas  : (belum diimplementasikan)\")\n",
        "        except Exception as e :\n",
        "             print (f\"  Luas  : (error: {e})\")\n",
        "\n",
        "        try :\n",
        "             keliling = self.hitung_keliling() # memanggil metode yang akan di override\n",
        "             print (f\"  Keliling: {keliling:.2f}\")\n",
        "        except NotImplementedError :\n",
        "             print (\"  Keliling: (belum diimplementasikan)\")\n",
        "        except Exception as e :\n",
        "             print (f\"  Keliling: (error: {e})\")\n",
        "        print (\"-\" * (len(self.nama) + 18))\n",
        "\n",
        "    # ---metode abstrak---\n",
        "    # metode ini wajib diimplementasikan oleh subclass konkret.\n",
        "    @abstractmethod\n",
        "    def hitung_luas (self) :\n",
        "        \"\"\"Metode abstrak untuk menghitung luas.\"\"\"\n",
        "        pass\n",
        "\n",
        "    @abstractmethod\n",
        "    def hitung_keliling (self) :\n",
        "        \"\"\"Metode abstrak untuk menghitung keliling.\"\"\"\n",
        "        pass\n",
        "\n",
        "#---subclass konkret---\n",
        "class Lingkaran (BangunDatarAbstrak) :\n",
        "    def __init__ (self, radius) :\n",
        "        # memanggil __init__ untuk set nama\n",
        "        super().__init__(\"Lingkaran\")\n",
        "        if radius <0:\n",
        "            raise ValueError (\"Radius tidak boleh negatif.\")\n",
        "        self.radius = radius\n",
        "        print (f\"  -> Lingkaran dibuat (Radius: {self.radius}).\")\n",
        "\n",
        "    # implementasi metode abstrak hitung_luas\n",
        "    def hitung_luas (self) :\n",
        "        return math.pi * (self.radius ** 2)\n",
        "\n",
        "    # implementasi metode abstrak hitung_keliling\n",
        "    def hitung_keliling (self) :\n",
        "        return 2 * math.pi * self.radius\n",
        "\n",
        "#---Kode Utama---\n",
        "if __name__ == \"__main__\":\n",
        "    print (\"Membuat objek Lingkaran...\")\n",
        "    lingkaran_A = Lingkaran (10)\n",
        "\n",
        "    #memaanggil metode konkret 'nama' (property) yang diwarisi\n",
        "    print (f\"\\nNama bangun (via property): {lingkaran_A.nama}\")\n",
        "\n",
        "    #memanggil metode kokret 'info_lengkap' yang diwarisi.\n",
        "    #metode ini akan memanggil 'hitung_luas' dan 'hitug_keliling'\n",
        "    #yang implementasinya ada di kelas Lingkaran\n",
        "    lingkaran_A.info_lengkap()\n",
        "\n",
        "    #memanggil langsung metode yang implementasinya ada di Lingkaran\n",
        "    #luas = lingkaran_A.hitung_luas()\n",
        "    #keliling = lingkaran_A.hitung_keliling()\n",
        "    #print (f\"Luas langsung: {luas:.2f}, Keliling langsung: {keliling:.2f}\")"
      ],
      "metadata": {
        "id": "B84iz9H6qjbf",
        "outputId": "3b088abd-727b-4392-c054-8890c227b15c",
        "colab": {
          "base_uri": "https://localhost:8080/"
        }
      },
      "execution_count": 2,
      "outputs": [
        {
          "output_type": "stream",
          "name": "stdout",
          "text": [
            "Membuat objek Lingkaran...\n",
            "Inisialisasi BangunDatarAbstrak: Lingkaran\n",
            "  -> Lingkaran dibuat (Radius: 10).\n",
            "\n",
            "Nama bangun (via property): Lingkaran\n",
            "\n",
            "--- Info lengkap: Lingkaran ---\n",
            "  Luas  : 314.16\n",
            "  Keliling: 62.83\n",
            "---------------------------\n"
          ]
        }
      ]
    }
  ]
}