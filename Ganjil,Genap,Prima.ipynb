{
  "nbformat": 4,
  "nbformat_minor": 0,
  "metadata": {
    "colab": {
      "provenance": [],
      "authorship_tag": "ABX9TyMUAGvjrdaHjtvyouo9MWxF",
      "include_colab_link": true
    },
    "kernelspec": {
      "name": "python3",
      "display_name": "Python 3"
    },
    "language_info": {
      "name": "python"
    }
  },
  "cells": [
    {
      "cell_type": "markdown",
      "metadata": {
        "id": "view-in-github",
        "colab_type": "text"
      },
      "source": [
        "<a href=\"https://colab.research.google.com/github/fariz123133/JOBSHEET_PBO_2025/blob/main/Ganjil%2CGenap%2CPrima.ipynb\" target=\"_parent\"><img src=\"https://colab.research.google.com/assets/colab-badge.svg\" alt=\"Open In Colab\"/></a>"
      ]
    },
    {
      "cell_type": "code",
      "execution_count": 3,
      "metadata": {
        "colab": {
          "base_uri": "https://localhost:8080/"
        },
        "id": "cPgUJgheC98o",
        "outputId": "0e48d62b-b6d2-486e-8d6e-6244e900fe1a"
      },
      "outputs": [
        {
          "output_type": "stream",
          "name": "stdout",
          "text": [
            "Masukkan sebuah bilangan: 9\n",
            "9 adalah bilangan Ganjil.\n",
            "9 bukan bilangan Prima.\n"
          ]
        }
      ],
      "source": [
        "# Program untuk mengecek bilangan genap, ganjil, atau prima\n",
        "\n",
        "\n",
        "angka = int(input(\"Masukkan sebuah bilangan: \"))\n",
        "\n",
        "if angka % 2 == 0:\n",
        "    print(f\"{angka} adalah bilangan Genap.\")\n",
        "else:\n",
        "    print(f\"{angka} adalah bilangan Ganjil.\")\n",
        "\n",
        "\n",
        "if angka > 1:\n",
        "    prima = True\n",
        "    for i in range(2, angka):\n",
        "        if angka % i == 0:\n",
        "            prima = False\n",
        "            break\n",
        "    if prima:\n",
        "        print(f\"{angka} juga merupakan bilangan Prima.\")\n",
        "    else:\n",
        "        print(f\"{angka} bukan bilangan Prima.\")\n",
        "else:\n",
        "    print(f\"{angka} bukan bilangan Prima.\")\n"
      ]
    }
  ]
}