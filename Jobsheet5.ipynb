{
  "nbformat": 4,
  "nbformat_minor": 0,
  "metadata": {
    "colab": {
      "provenance": [],
      "authorship_tag": "ABX9TyOPYQQ4fgJgbeUbKi0ofE2a",
      "include_colab_link": true
    },
    "kernelspec": {
      "name": "python3",
      "display_name": "Python 3"
    },
    "language_info": {
      "name": "python"
    }
  },
  "cells": [
    {
      "cell_type": "markdown",
      "metadata": {
        "id": "view-in-github",
        "colab_type": "text"
      },
      "source": [
        "<a href=\"https://colab.research.google.com/github/fariz123133/JOBSHEET_PBO_2025/blob/main/Jobsheet5.ipynb\" target=\"_parent\"><img src=\"https://colab.research.google.com/assets/colab-badge.svg\" alt=\"Open In Colab\"/></a>"
      ]
    },
    {
      "cell_type": "markdown",
      "source": [
        "Praktikum 1\n"
      ],
      "metadata": {
        "id": "3fFWwaxrcFDB"
      }
    },
    {
      "cell_type": "code",
      "execution_count": 11,
      "metadata": {
        "colab": {
          "base_uri": "https://localhost:8080/"
        },
        "id": "mokcJrJnbhCx",
        "outputId": "2c0a1a34-c14a-491f-aba0-ae74955af3db"
      },
      "outputs": [
        {
          "output_type": "stream",
          "name": "stdout",
          "text": [
            "\n",
            "Aksi Burung :\n",
            "-- Aksi untuk Elang Jawa --\n",
            "Elang Jawa terbang tinggi melayang di angkasa.\n",
            "Elang Jawa berteriak nyaring.\n",
            "---------------\n",
            "-- Aksi untuk Pipit Gereja --\n",
            "Pipit Gereja terbang cepat si antara pepohonan.\n",
            "Pipit Gereja berkicau merdu : Cit cit!\n",
            "---------------\n",
            "-- Aksi untuk Burung Misterius --\n",
            "Burung Misterius terbang dengan cara umum.\n",
            "Burung Misterius mengeluarkan suara burung.\n",
            "---------------\n"
          ]
        }
      ],
      "source": [
        "# kelas induk\n",
        "class Burung :\n",
        "    def __init__ (self, nama) :\n",
        "        self.nama = nama\n",
        "\n",
        "    def terbang (self) :\n",
        "        print (f\"{self.nama} terbang dengan cara umum.\")\n",
        "\n",
        "    def bersuara (self) :\n",
        "        print (f\"{self.nama} mengeluarkan suara burung.\")\n",
        "\n",
        "# kelas anak 1\n",
        "class Elang (Burung) :\n",
        "    def __init__ (self, nama, rentang_sayap) :\n",
        "        super().__init__ (nama)\n",
        "        self.rentang_sayap = rentang_sayap\n",
        "\n",
        "    #override\n",
        "    def terbang (self) :\n",
        "        print (f\"{self.nama} terbang tinggi melayang di angkasa.\")\n",
        "\n",
        "    #override\n",
        "    def bersuara (self) :\n",
        "        print (f\"{self.nama} berteriak nyaring.\")\n",
        "\n",
        "# kelas anak 2\n",
        "class Pipit (Burung) :\n",
        "    def __init__ (self, nama, warna_bulu) :\n",
        "        super().__init__ (nama)\n",
        "        self.warna_bulu = warna_bulu\n",
        "\n",
        "    #override\n",
        "    def terbang (self) :\n",
        "        print (f\"{self.nama} terbang cepat si antara pepohonan.\")\n",
        "\n",
        "    #override\n",
        "    def bersuara (self) :\n",
        "        print (f\"{self.nama} berkicau merdu : Cit cit!\")\n",
        "\n",
        "# fungsi yang memanfaatkan polimorfisme\n",
        "def demonstrasi_aksi_burung (daftar_burung) :\n",
        "    print (\"\\nAksi Burung :\")\n",
        "    for burung in daftar_burung :\n",
        "        print (f\"-- Aksi untuk {burung.nama} --\")\n",
        "        # panggilan metode yang sama tapi perilaku berbeda tergantung objek\n",
        "        burung.terbang ()\n",
        "        burung.bersuara ()\n",
        "        print (\"-\" * 15)\n",
        "\n",
        "#Kode Utama\n",
        "if __name__ == \"__main__\" :\n",
        "    elang_jawa = Elang (\"Elang Jawa\", 1.5)\n",
        "    pipit_gereja = Pipit (\"Pipit Gereja\", \"Coklat\")\n",
        "    burung_aneh = Burung (\"Burung Misterius\")\n",
        "\n",
        "    koleksi_burung = [elang_jawa, pipit_gereja, burung_aneh]\n",
        "\n",
        "    demonstrasi_aksi_burung (koleksi_burung)"
      ]
    },
    {
      "cell_type": "markdown",
      "source": [
        "Praktikum 2"
      ],
      "metadata": {
        "id": "sEJT8yC2kQHX"
      }
    },
    {
      "cell_type": "code",
      "source": [
        "class Kucing :\n",
        "    def bersuara (self) :\n",
        "        print (\"Kucing : Meow!\")\n",
        "\n",
        "class Anjing :\n",
        "    def bersuara (self) :\n",
        "        print (\"Anjing : Guk guk!\")\n",
        "\n",
        "class Bebek :\n",
        "    def bersuara (self) :\n",
        "        print (\"Bebek : Kwek kwek!\")\n",
        "\n",
        "class Mobil : # kelas ini tidak punya metode bersuara ()\n",
        "    def jalankan (self) :\n",
        "        print (\"Mobil : Brummm!\")\n",
        "\n",
        "# fungsi ini tidak peduli tipe objeknya\n",
        "# asal punya metode .bersuara()\n",
        "def buat_suara (objek_yang_bisa_bersuara) :\n",
        "    try :\n",
        "      #memanggil metode 'bersuara' jika ada\n",
        "      objek_yang_bisa_bersuara.bersuara ()\n",
        "    except AttributeError :\n",
        "      #menangani jika objek tidak punya metode 'bersuara'\n",
        "      print (f\"Objek {type(objek_yang_bisa_bersuara). __name__} tidak bisa bersuara.\")\n",
        "\n",
        "      # Kode Utama\n",
        "if __name__ == \"__main__\" :\n",
        "    kucing1  = Kucing ()\n",
        "    anjing1 = Anjing ()\n",
        "    bebek1 = Bebek ()\n",
        "    mobil1 = Mobil ()\n",
        "\n",
        "    daftar_objek = [kucing1, anjing1, bebek1, mobil1]\n",
        "\n",
        "    print (\"Demonstrasi Duck Typing :\")\n",
        "    for item in daftar_objek :\n",
        "        buat_suara (item) # fungsi polimorfik via duck  typing"
      ],
      "metadata": {
        "colab": {
          "base_uri": "https://localhost:8080/"
        },
        "id": "DY_aqTFAkPSn",
        "outputId": "cb369e38-941a-454f-b74e-68639200e882"
      },
      "execution_count": 12,
      "outputs": [
        {
          "output_type": "stream",
          "name": "stdout",
          "text": [
            "Demonstrasi Duck Typing :\n",
            "Kucing : Meow!\n",
            "Anjing : Guk guk!\n",
            "Bebek : Kwek kwek!\n",
            "Objek Mobil tidak bisa bersuara.\n"
          ]
        }
      ]
    },
    {
      "cell_type": "markdown",
      "source": [
        "Praktikum 3"
      ],
      "metadata": {
        "id": "DlLWUiqApFXc"
      }
    },
    {
      "cell_type": "code",
      "source": [
        "class KalkulatorSederhana :\n",
        "    def __init__ (self, nama=\"Kalkulator\") :\n",
        "        self.nama = nama\n",
        "        print (f\"{self.nama} siap digunakan.\")\n",
        "\n",
        "    def tambah (self, *args) :\n",
        "        \"\"\"\n",
        "        Metode ini menjumlahkan semua argumen angja yang diberikan.\n",
        "        Menerima sejumlah argumen posisi menggunakan *args\n",
        "        \"\"\"\n",
        "        print (f\"\\nMemanggil metode tambah dengan argumen: {args}\")\n",
        "        if not args :\n",
        "             print (\"Tidak ada angka untuk dijumlahkan.\")\n",
        "             return 0 # Atau bisa juga none atau raise error\n",
        "\n",
        "        total = 0\n",
        "        valid_input = True\n",
        "        for angka in args :\n",
        "            # melakukan pengecekan tipe sederhana\n",
        "            if isinstance (angka, (int, float)) :\n",
        "                total += angka\n",
        "            else :\n",
        "                  print (f\"Peringatan : Argumen '{angka}' bukan angka dan akan diabaikan.\")\n",
        "                  valid_input = False\n",
        "\n",
        "            if valid_input :\n",
        "                  print (f\"Hasil penjumlahan : {total}\")\n",
        "            else :\n",
        "                  print (f\"Hasil penjumlahan (dengan beberapa input diabaikan) : {total}\")\n",
        "\n",
        "            return total\n",
        "\n",
        "# Kode Utama\n",
        "if __name__ == \"__main__\" :\n",
        "    calc = KalkulatorSederhana (\"Calc-01\")\n",
        "\n",
        "    #memanggil metode 'tambah' dengan jumlah argumen berbeda\n",
        "    print (\"\\n--- Percobaan Penjumlahan ---\")\n",
        "    calc.tambah (5, 10)\n",
        "    calc.tambah (2, 3, 5, 10)\n",
        "    calc.tambah (100)\n",
        "    calc.tambah () # tanpa argumen\n",
        "    calc.tambah (1, 2, \"tiga\", 4, 5.5) # dengan input non angka"
      ],
      "metadata": {
        "colab": {
          "base_uri": "https://localhost:8080/"
        },
        "id": "401qBPBepH4U",
        "outputId": "986a5760-4755-446d-d3bb-edf2b23ed17d"
      },
      "execution_count": 13,
      "outputs": [
        {
          "output_type": "stream",
          "name": "stdout",
          "text": [
            "Calc-01 siap digunakan.\n",
            "\n",
            "--- Percobaan Penjumlahan ---\n",
            "\n",
            "Memanggil metode tambah dengan argumen: (5, 10)\n",
            "Hasil penjumlahan : 5\n",
            "\n",
            "Memanggil metode tambah dengan argumen: (2, 3, 5, 10)\n",
            "Hasil penjumlahan : 2\n",
            "\n",
            "Memanggil metode tambah dengan argumen: (100,)\n",
            "Hasil penjumlahan : 100\n",
            "\n",
            "Memanggil metode tambah dengan argumen: ()\n",
            "Tidak ada angka untuk dijumlahkan.\n",
            "\n",
            "Memanggil metode tambah dengan argumen: (1, 2, 'tiga', 4, 5.5)\n",
            "Hasil penjumlahan : 1\n"
          ]
        }
      ]
    },
    {
      "cell_type": "markdown",
      "source": [
        "Praktikum 4"
      ],
      "metadata": {
        "id": "CTCHRzKqvIGy"
      }
    },
    {
      "cell_type": "code",
      "source": [
        "class DataProcessor :\n",
        "    def __init__ (self, processor_id) :\n",
        "        self.processor_id = processor_id\n",
        "        print (f\"Data Processor {self.processor_id} siap.\")\n",
        "\n",
        "    def process (self, *args, **kwargs) :\n",
        "        \"\"\"\n",
        "        Metode ini memproses data dengan argumen posisi (*args)\n",
        "        dan kata kunci (**kwargs) yang jumlahnya variabel.\n",
        "        \"\"\"\n",
        "        print (f\"\\n--- {self.processor_id} Memproses Data ---\")\n",
        "\n",
        "        #memproses argumen posisi (*args -> tuple )\n",
        "        if args :\n",
        "            print (\"Argumen Posisi Diterima\")\n",
        "            for i, arg in enumerate (args) :\n",
        "              print (f\"  args[{i}]: {arg} (tipe: {type(arg) .__name__})\")\n",
        "\n",
        "        else :\n",
        "             print (\"Tidak ada argumen posisi.\")\n",
        "\n",
        "        #memproses argumen kata kunci (**kwargs -> dict)\n",
        "        if kwargs :\n",
        "            print (\"Argumen Kata Kunci Diterima\")\n",
        "            for kunci, nilai in kwargs.items () :\n",
        "              print (f\" {kunci}: {nilai} (tipe: {type(nilai) .__name__})\")\n",
        "        else :\n",
        "            print (\"Tidak ada argumen kata kunci.\")\n",
        "        print (\"---------------------------------\")\n",
        "\n",
        "#kode utama\n",
        "if __name__ == \"__main__\" :\n",
        "    # membuat instance dari kelas\n",
        "    processor1 = DataProcessor (\"DP-001\")\n",
        "\n",
        "    #memanggil metode 'process' dengan berbagai cara\n",
        "    print (\"\\nPanggilan 1: Tanpa argumen tambahan\")\n",
        "    processor1.process ()\n",
        "\n",
        "    print (\"\\nPanggilan 2: Hanya argumen posisi\")\n",
        "    processor1.process (100, \"Status OK\", 99.9, False)\n",
        "\n",
        "    print (\"\\nPanggilan 3: Hanya argumen kata kunci\")\n",
        "    processor1.process (user=\"admin\", level=5, mode=\"verbose\")\n",
        "    print (\"\\nPanggilan 4: Kombinasi argumen posisi dan kata kunci\")\n",
        "    processor1.process (\"Task-A\", \"Task-B\", status=\"Running\", priority=\"High\", thread_id=54321)\n",
        "\n",
        "    # Pnggilan dengan list dan dictioinary sebagai argumen posisi\n",
        "    print (\"\\nPanggilan 5: Argumen posisi kompleks\")\n",
        "    list_ids = [\"A1\", \"B2\", \"C3\"]\n",
        "    dict_params = {\"timeout\": 30, \"retry\": 3}\n",
        "    processor1.process (list_ids, dict_params, owner=\"system\", enabled=True)"
      ],
      "metadata": {
        "id": "ttfWRgDQvKsh",
        "outputId": "188b8c1a-4bdd-484f-c38f-4cc9f8d6dde3",
        "colab": {
          "base_uri": "https://localhost:8080/"
        }
      },
      "execution_count": 14,
      "outputs": [
        {
          "output_type": "stream",
          "name": "stdout",
          "text": [
            "Data Processor DP-001 siap.\n",
            "\n",
            "Panggilan 1: Tanpa argumen tambahan\n",
            "\n",
            "--- DP-001 Memproses Data ---\n",
            "Tidak ada argumen posisi.\n",
            "Tidak ada argumen kata kunci.\n",
            "---------------------------------\n",
            "\n",
            "Panggilan 2: Hanya argumen posisi\n",
            "\n",
            "--- DP-001 Memproses Data ---\n",
            "Argumen Posisi Diterima\n",
            "  args[0]: 100 (tipe: int)\n",
            "  args[1]: Status OK (tipe: str)\n",
            "  args[2]: 99.9 (tipe: float)\n",
            "  args[3]: False (tipe: bool)\n",
            "Tidak ada argumen kata kunci.\n",
            "---------------------------------\n",
            "\n",
            "Panggilan 3: Hanya argumen kata kunci\n",
            "\n",
            "--- DP-001 Memproses Data ---\n",
            "Tidak ada argumen posisi.\n",
            "Argumen Kata Kunci Diterima\n",
            " user: admin (tipe: str)\n",
            " level: 5 (tipe: int)\n",
            " mode: verbose (tipe: str)\n",
            "---------------------------------\n",
            "\n",
            "Panggilan 4: Kombinasi argumen posisi dan kata kunci\n",
            "\n",
            "--- DP-001 Memproses Data ---\n",
            "Argumen Posisi Diterima\n",
            "  args[0]: Task-A (tipe: str)\n",
            "  args[1]: Task-B (tipe: str)\n",
            "Argumen Kata Kunci Diterima\n",
            " status: Running (tipe: str)\n",
            " priority: High (tipe: str)\n",
            " thread_id: 54321 (tipe: int)\n",
            "---------------------------------\n",
            "\n",
            "Panggilan 5: Argumen posisi kompleks\n",
            "\n",
            "--- DP-001 Memproses Data ---\n",
            "Argumen Posisi Diterima\n",
            "  args[0]: ['A1', 'B2', 'C3'] (tipe: list)\n",
            "  args[1]: {'timeout': 30, 'retry': 3} (tipe: dict)\n",
            "Argumen Kata Kunci Diterima\n",
            " owner: system (tipe: str)\n",
            " enabled: True (tipe: bool)\n",
            "---------------------------------\n"
          ]
        }
      ]
    },
    {
      "cell_type": "markdown",
      "source": [
        "Praktikum 5"
      ],
      "metadata": {
        "id": "ZIncMepinOns"
      }
    },
    {
      "cell_type": "code",
      "source": [
        "import math\n",
        "\n",
        "#---Definisi kelas dari Hierarki Inheritance---\n",
        "class Bentuk :\n",
        "    # Metode ini bisa dianggap sebagai 'template' atau interface dasar\n",
        "    def nama_bentuk (self) :\n",
        "        return \"Bentuk Generik\"\n",
        "\n",
        "    # Metode ini wajib di-override oleh subclass\n",
        "    def hitung_luas (self) :\n",
        "          raise NotImplementedError (\"Subclass harus mengimplementasikan metode ini\")\n",
        "\n",
        "class Lingkaran (Bentuk) :\n",
        "    def __init__ (self, radius) :\n",
        "        self.radius = radius\n",
        "\n",
        "    #override\n",
        "    def nama_bentuk (self) :\n",
        "        return \"Lingkaran\"\n",
        "\n",
        "    #override\n",
        "    def hitung_luas (self) :\n",
        "        return math.pi * (self.radius ** 2)\n",
        "\n",
        "class Persegi (Bentuk) :\n",
        "    def __init__ (self, sisi) :\n",
        "        self.sisi = sisi\n",
        "    #override\n",
        "    def nama_bentuk (self) :\n",
        "        return \"Persegi\"\n",
        "\n",
        "    #override\n",
        "    def hitung_luas (self) :\n",
        "        return self.sisi * self.sisi\n",
        "\n",
        "#--- Definisi kelas lain (tidak terkait imheritance dengan bentuk)---\n",
        "class TaplakMeja :\n",
        "    def __init__ (self, panjang, lebar) :\n",
        "        self.panjang = panjang\n",
        "        self.lebar = lebar\n",
        "\n",
        "    # metode dengan nama sama -> 'hitung_luas'\n",
        "    # ini memungkinkan TplakMeja bekerja dengan fungsi polimorfik di bawah\n",
        "    def hitung_luas (self) :\n",
        "        return self.panjang * self.lebar\n",
        "\n",
        "    # Metode yang berbeda, tidak ada di kelas Bentuk\n",
        "    def deskripsi (self) :\n",
        "        return f\"Taplak Meja {self.panjang}x{self.lebar}\"\n",
        "\n",
        "#---fungsi Polimorfik---\n",
        "def tampilkan_info_luas (objek_dengan_luas) :\n",
        "    print (\"-\" * 20)\n",
        "    try :\n",
        "         # Mencoba memanggil hitung_luas() - inti polimorfisme\n",
        "         luas = objek_dengan_luas.hitung_luas()\n",
        "\n",
        "         # Mencoba mendapatkan nama jika ada (duck typing tambahan)\n",
        "         try :\n",
        "              nama = objek_dengan_luas.nama_bentuk()\n",
        "         except AttributeError :\n",
        "             # jika tidak ada nama_bentuk(), gunakan nama kelasnya\n",
        "              nama = type(objek_dengan_luas).__name__\n",
        "\n",
        "         print (f\"Objek: {nama}\")\n",
        "         print (f\"Luas : {luas:.2f}\") # format luas 2 angka desimal\n",
        "\n",
        "    except AttributeError :\n",
        "        #menamgani jika objek sama sekali tidak punya hitung.luas()\n",
        "          print (f\"Objek {type(objek_dengan_luas).__name__} tidak dapat dihitung luasnya (metode tidak ditemukan).\")\n",
        "    except NotImplementedError :\n",
        "        # menangani jika metode ada tapi belum di implementasi (ddari kelas bentuk)\n",
        "          print (f\"Metode 'hitung_luas' belum diimplementasi untuk {type(objek_dengan_luas).__name__}.\")\n",
        "\n",
        "#---kode utama---\n",
        "if __name__ == \"__main__\" :\n",
        "    lingkaran1 = Lingkaran(7)\n",
        "    persegi1 = Persegi(5)\n",
        "    taplak1 = TaplakMeja(1.5, 0.8)\n",
        "    bentuk_dasar = Bentuk() # Objek kelas induk (akan raise NotImplementedError)\n",
        "    string_biasa = \"Ini string\" # objek yang tidak relevan\n",
        "    daftar_item = [lingkaran1, persegi1, taplak1, bentuk_dasar, string_biasa]\n",
        "\n",
        "    print (\"Menampilkan Info Luas (Polimorfisme Campuran) :\")\n",
        "    for item in daftar_item :\n",
        "        tampilkan_info_luas (item)\n"
      ],
      "metadata": {
        "id": "c7BIq3f6nQkr",
        "outputId": "25e86e0d-de4e-49aa-d197-c9d9c3a7c224",
        "colab": {
          "base_uri": "https://localhost:8080/"
        }
      },
      "execution_count": 15,
      "outputs": [
        {
          "output_type": "stream",
          "name": "stdout",
          "text": [
            "Menampilkan Info Luas (Polimorfisme Campuran) :\n",
            "--------------------\n",
            "Objek: Lingkaran\n",
            "Luas : 153.94\n",
            "--------------------\n",
            "Objek: Persegi\n",
            "Luas : 25.00\n",
            "--------------------\n",
            "Objek: TaplakMeja\n",
            "Luas : 1.20\n",
            "--------------------\n",
            "Metode 'hitung_luas' belum diimplementasi untuk Bentuk.\n",
            "--------------------\n",
            "Objek str tidak dapat dihitung luasnya (metode tidak ditemukan).\n"
          ]
        }
      ]
    },
    {
      "cell_type": "markdown",
      "source": [
        "Praktikum 6"
      ],
      "metadata": {
        "id": "w4GEqBPOyY_P"
      }
    },
    {
      "cell_type": "code",
      "source": [
        "#---Definisi Kelas Burung, Elang, Pipit---\n",
        "class Burung :\n",
        "    def __init__ (self, nama) :\n",
        "        self.nama = nama\n",
        "    def terbang (self) :\n",
        "        print (f\"{self.nama} terbang dengan cara umum.\")\n",
        "    def bersuara (self) :\n",
        "        print (f\"{self.nama} mengeluarkan suara burung.\")\n",
        "\n",
        "class Elang (Burung) :\n",
        "    def __init__ (self, nama, rentang_sayap) :\n",
        "        super().__init__(nama)\n",
        "        self.rentang_sayap = rentang_sayap\n",
        "    #override\n",
        "    def terbang (self) :\n",
        "        print (f\"{self.nama} terbang tinggi melayang di angkasa.\")\n",
        "    #override\n",
        "    def bersuara (self) :\n",
        "        print (f\"{self.nama} berteriak nyaring!\")\n",
        "    # metode khusus elang\n",
        "    def berburu (self) :\n",
        "        print (f\"{self.nama} sedang mencari mangsa dari ketinggian.\")\n",
        "class Pipit (Burung) :\n",
        "    def __init__ (self, nama, warna_bulu) :\n",
        "        super().__init__(nama)\n",
        "        self.warna_bulu = warna_bulu\n",
        "    #override\n",
        "    def terbang (self) :\n",
        "        print (f\"{self.nama} terbang cepat diantara pepohonan.\")\n",
        "    #override\n",
        "    def bersuara (self) :\n",
        "        print (f\"{self.nama} berkicau merdu: Cit cit!\")\n",
        "    #metode khusus pipit\n",
        "    def membangun_sarang (self) :\n",
        "        print (f\"{self.nama} sedang mengumpulkan ranting untuk sarang.\")\n",
        "\n",
        "#---fungsi yang memanfaatkan polimorfisme dan isinstance()---\n",
        "def interaksi_dengan_burung (burung) :\n",
        "    print (f\"\\n--- Berinteraksi dengan {type(burung).__name__}: {getattr(burung, 'nama', 'Obek tidak dikenal')} ---\")\n",
        "\n",
        "    # cek dulu apakah objek adalag instance dari burung atau turunannya\n",
        "    if isinstance (burung, Burung) :\n",
        "        # perilaku polimorfik dasar (memanggil metode override)\n",
        "        burung.terbang()\n",
        "        burung.bersuara()\n",
        "\n",
        "        # menambahkan perilaku spesifik berdasarkan tipe turunan\n",
        "        if isinstance (burung, Elang) :\n",
        "            print (\"-> Ini adalah Elang!\")\n",
        "            burung.berburu() # panggil metode khusus elang\n",
        "        elif isinstance (burung, Pipit) :\n",
        "            print (\"-> Ini adalah Pipit!\")\n",
        "            burung.membangun_sarang() # pamggil metode khusus pipit\n",
        "        else :\n",
        "            # hanya burung generik, bukan turunan spesifik yang dikenali\n",
        "            print (\"-> Ini adalah burung jenis umum (bukan Elang/Pipit).\")\n",
        "    else :\n",
        "        # Jika objek BUKAN instance burung sama sekali\n",
        "        print (\"-> Objek ini bukan termasuk jenis burung.\")\n",
        "    print (\"-\" * 25)\n",
        "\n",
        "#---kode utama---\n",
        "if __name__ == \"__main__\" :\n",
        "    elang_sumatra = Elang (\"Elang Sumatra\", 1.8)\n",
        "    pipit_rumah = Pipit (\"Pipit Rumah\", \"Abu-abu\")\n",
        "    merak = Burung (\"Merak\") # Contoh burung lain (induk)\n",
        "    kucing_tetangga = \"Meong\" # objek non-burung\n",
        "\n",
        "    koleksi_makhluk = [elang_sumatra, pipit_rumah, merak, kucing_tetangga]\n",
        "\n",
        "    for makhluk in koleksi_makhluk :\n",
        "        interaksi_dengan_burung (makhluk)\n",
        "\n",
        "\n",
        "\n",
        "\n",
        "\n"
      ],
      "metadata": {
        "id": "PXy0KHT9ya_f",
        "outputId": "eff2d3aa-2abc-4387-cd49-9e6fd26e7e91",
        "colab": {
          "base_uri": "https://localhost:8080/"
        }
      },
      "execution_count": 17,
      "outputs": [
        {
          "output_type": "stream",
          "name": "stdout",
          "text": [
            "\n",
            "--- Berinteraksi dengan Elang: Elang Sumatra ---\n",
            "Elang Sumatra terbang tinggi melayang di angkasa.\n",
            "Elang Sumatra berteriak nyaring!\n",
            "-> Ini adalah Elang!\n",
            "Elang Sumatra sedang mencari mangsa dari ketinggian.\n",
            "-------------------------\n",
            "\n",
            "--- Berinteraksi dengan Pipit: Pipit Rumah ---\n",
            "Pipit Rumah terbang cepat diantara pepohonan.\n",
            "Pipit Rumah berkicau merdu: Cit cit!\n",
            "-> Ini adalah Pipit!\n",
            "Pipit Rumah sedang mengumpulkan ranting untuk sarang.\n",
            "-------------------------\n",
            "\n",
            "--- Berinteraksi dengan Burung: Merak ---\n",
            "Merak terbang dengan cara umum.\n",
            "Merak mengeluarkan suara burung.\n",
            "-> Ini adalah burung jenis umum (bukan Elang/Pipit).\n",
            "-------------------------\n",
            "\n",
            "--- Berinteraksi dengan str: Obek tidak dikenal ---\n",
            "-> Objek ini bukan termasuk jenis burung.\n",
            "-------------------------\n"
          ]
        }
      ]
    }
  ]
}