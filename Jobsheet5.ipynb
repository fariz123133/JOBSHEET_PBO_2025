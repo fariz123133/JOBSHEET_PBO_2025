{
  "nbformat": 4,
  "nbformat_minor": 0,
  "metadata": {
    "colab": {
      "provenance": [],
      "authorship_tag": "ABX9TyNNwy5X72dJk8m9oZw0m+0D",
      "include_colab_link": true
    },
    "kernelspec": {
      "name": "python3",
      "display_name": "Python 3"
    },
    "language_info": {
      "name": "python"
    }
  },
  "cells": [
    {
      "cell_type": "markdown",
      "metadata": {
        "id": "view-in-github",
        "colab_type": "text"
      },
      "source": [
        "<a href=\"https://colab.research.google.com/github/fariz123133/JOBSHEET_PBO_2025/blob/main/Jobsheet5.ipynb\" target=\"_parent\"><img src=\"https://colab.research.google.com/assets/colab-badge.svg\" alt=\"Open In Colab\"/></a>"
      ]
    },
    {
      "cell_type": "markdown",
      "source": [
        "Praktikum 1\n"
      ],
      "metadata": {
        "id": "3fFWwaxrcFDB"
      }
    },
    {
      "cell_type": "code",
      "execution_count": null,
      "metadata": {
        "colab": {
          "base_uri": "https://localhost:8080/"
        },
        "id": "mokcJrJnbhCx",
        "outputId": "4e6ff181-2fda-48b1-c08c-08b96ad1c322"
      },
      "outputs": [
        {
          "output_type": "stream",
          "name": "stdout",
          "text": [
            "\n",
            "Aksi Burung :\n",
            "-- Aksi untuk Elang Jawa --\n",
            "Elang Jawa terbang tinggi melayang di angkasa.\n",
            "Elang Jawa berteriak nyaring.\n",
            "---------------\n",
            "-- Aksi untuk Pipit Gereja --\n",
            "Pipit Gereja terbang cepat si antara pepohonan.\n",
            "Pipit Gereja berkicau merdu : Cit cit!\n",
            "---------------\n",
            "-- Aksi untuk Burung Misterius --\n",
            "Burung Misterius terbang dengan cara umum.\n",
            "Burung Misterius mengeluarkan suara burung.\n",
            "---------------\n"
          ]
        }
      ],
      "source": [
        "# kelas induk\n",
        "class Burung :\n",
        "    def __init__ (self, nama) :\n",
        "        self.nama = nama\n",
        "\n",
        "    def terbang (self) :\n",
        "        print (f\"{self.nama} terbang dengan cara umum.\")\n",
        "\n",
        "    def bersuara (self) :\n",
        "        print (f\"{self.nama} mengeluarkan suara burung.\")\n",
        "\n",
        "# kelas anak 1\n",
        "class Elang (Burung) :\n",
        "    def __init__ (self, nama, rentang_sayap) :\n",
        "        super().__init__ (nama)\n",
        "        self.rentang_sayap = rentang_sayap\n",
        "\n",
        "    #override\n",
        "    def terbang (self) :\n",
        "        print (f\"{self.nama} terbang tinggi melayang di angkasa.\")\n",
        "\n",
        "    #override\n",
        "    def bersuara (self) :\n",
        "        print (f\"{self.nama} berteriak nyaring.\")\n",
        "\n",
        "# kelas anak 2\n",
        "class Pipit (Burung) :\n",
        "    def __init__ (self, nama, warna_bulu) :\n",
        "        super().__init__ (nama)\n",
        "        self.warna_bulu = warna_bulu\n",
        "\n",
        "    #override\n",
        "    def terbang (self) :\n",
        "        print (f\"{self.nama} terbang cepat si antara pepohonan.\")\n",
        "\n",
        "    #override\n",
        "    def bersuara (self) :\n",
        "        print (f\"{self.nama} berkicau merdu : Cit cit!\")\n",
        "\n",
        "# fungsi yang memanfaatkan polimorfisme\n",
        "def demonstrasi_aksi_burung (daftar_burung) :\n",
        "    print (\"\\nAksi Burung :\")\n",
        "    for burung in daftar_burung :\n",
        "        print (f\"-- Aksi untuk {burung.nama} --\")\n",
        "        # panggilan metode yang sama tapi perilaku berbeda tergantung objek\n",
        "        burung.terbang ()\n",
        "        burung.bersuara ()\n",
        "        print (\"-\" * 15)\n",
        "\n",
        "#Kode Utama\n",
        "if __name__ == \"__main__\" :\n",
        "    elang_jawa = Elang (\"Elang Jawa\", 1.5)\n",
        "    pipit_gereja = Pipit (\"Pipit Gereja\", \"Coklat\")\n",
        "    burung_aneh = Burung (\"Burung Misterius\")\n",
        "\n",
        "    koleksi_burung = [elang_jawa, pipit_gereja, burung_aneh]\n",
        "\n",
        "    demonstrasi_aksi_burung (koleksi_burung)"
      ]
    },
    {
      "cell_type": "markdown",
      "source": [
        "Praktikum 2"
      ],
      "metadata": {
        "id": "sEJT8yC2kQHX"
      }
    },
    {
      "cell_type": "code",
      "source": [
        "class Kucing :\n",
        "    def bersuara (self) :\n",
        "        print (\"Kucing : Meow!\")\n",
        "\n",
        "class Anjing :\n",
        "    def bersuara (self) :\n",
        "        print (\"Anjing : Guk guk!\")\n",
        "\n",
        "class Bebek :\n",
        "    def bersuara (self) :\n",
        "        print (\"Bebek : Kwek kwek!\")\n",
        "\n",
        "class Mobil : # kelas ini tidak punya metode bersuara ()\n",
        "    def jalankan (self) :\n",
        "        print (\"Mobil : Brummm!\")\n",
        "\n",
        "# fungsi ini tidak peduli tipe objeknya\n",
        "# asal punya metode .bersuara()\n",
        "def buat_suara (objek_yang_bisa_bersuara) :\n",
        "    try :\n",
        "      #memanggil metode 'bersuara' jika ada\n",
        "      objek_yang_bisa_bersuara.bersuara ()\n",
        "    except AttributeError :\n",
        "      #menangani jika objek tidak punya metode 'bersuara'\n",
        "      print (f\"Objek {type(objek_yang_bisa_bersuara). __name__} tidak bisa bersuara.\")\n",
        "\n",
        "      # Kode Utama\n",
        "if __name__ == \"__main__\" :\n",
        "    kucing1  = Kucing ()\n",
        "    anjing1 = Anjing ()\n",
        "    bebek1 = Bebek ()\n",
        "    mobil1 = Mobil ()\n",
        "\n",
        "    daftar_objek = [kucing1, anjing1, bebek1, mobil1]\n",
        "\n",
        "    print (\"Demonstrasi Duck Typing :\")\n",
        "    for item in daftar_objek :\n",
        "        buat_suara (item) # fungsi polimorfik via duck  typing"
      ],
      "metadata": {
        "colab": {
          "base_uri": "https://localhost:8080/"
        },
        "id": "DY_aqTFAkPSn",
        "outputId": "98bcbd38-84f0-4295-99fe-65b0b9e72ae0"
      },
      "execution_count": null,
      "outputs": [
        {
          "output_type": "stream",
          "name": "stdout",
          "text": [
            "Demonstrasi Duck Typing :\n",
            "Kucing : Meow!\n",
            "Anjing : Guk guk!\n",
            "Bebek : Kwek kwek!\n",
            "Objek Mobil tidak bisa bersuara.\n"
          ]
        }
      ]
    },
    {
      "cell_type": "markdown",
      "source": [
        "Praktikum 3"
      ],
      "metadata": {
        "id": "DlLWUiqApFXc"
      }
    },
    {
      "cell_type": "code",
      "source": [
        "class KalkulatorSederhana :\n",
        "    def __init__ (self, nama=\"Kalkulator\") :\n",
        "        self.nama = nama\n",
        "        print (f\"{self.nama} siap digunakan.\")\n",
        "\n",
        "    def tambah (self, *args) :\n",
        "        \"\"\"\n",
        "        Metode ini menjumlahkan semua argumen angja yang diberikan.\n",
        "        Menerima sejumlah argumen posisi menggunakan *args\n",
        "        \"\"\"\n",
        "        print (f\"\\nMemanggil metode tambah dengan argumen: {args}\")\n",
        "        if not args :\n",
        "             print (\"Tidak ada angka untuk dijumlahkan.\")\n",
        "             return 0 # Atau bisa juga none atau raise error\n",
        "\n",
        "        total = 0\n",
        "        valid_input = True\n",
        "        for angka in args :\n",
        "            # melakukan pengecekan tipe sederhana\n",
        "            if isinstance (angka, (int, float)) :\n",
        "                total += angka\n",
        "            else :\n",
        "                  print (f\"Peringatan : Argumen '{angka}' bukan angka dan akan diabaikan.\")\n",
        "                  valid_input = False\n",
        "\n",
        "            if valid_input :\n",
        "                  print (f\"Hasil penjumlahan : {total}\")\n",
        "            else :\n",
        "                  print (f\"Hasil penjumlahan (dengan beberapa input diabaikan) : {total}\")\n",
        "\n",
        "            return total\n",
        "\n",
        "# Kode Utama\n",
        "if __name__ == \"__main__\" :\n",
        "    calc = KalkulatorSederhana (\"Calc-01\")\n",
        "\n",
        "    #memanggil metode 'tambah' dengan jumlah argumen berbeda\n",
        "    print (\"\\n--- Percobaan Penjumlahan ---\")\n",
        "    calc.tambah (5, 10)\n",
        "    calc.tambah (2, 3, 5, 10)\n",
        "    calc.tambah (100)\n",
        "    calc.tambah () # tanpa argumen\n",
        "    calc.tambah (1, 2, \"tiga\", 4, 5.5) # dengan input non angka"
      ],
      "metadata": {
        "colab": {
          "base_uri": "https://localhost:8080/"
        },
        "id": "401qBPBepH4U",
        "outputId": "4c0b76bd-d3c6-40f2-ffb2-552cd1f9d428"
      },
      "execution_count": null,
      "outputs": [
        {
          "output_type": "stream",
          "name": "stdout",
          "text": [
            "Calc-01 siap digunakan.\n",
            "\n",
            "--- Percobaan Penjumlahan ---\n",
            "\n",
            "Memanggil metode tambah dengan argumen: (5, 10)\n",
            "Hasil penjumlahan : 5\n",
            "\n",
            "Memanggil metode tambah dengan argumen: (2, 3, 5, 10)\n",
            "Hasil penjumlahan : 2\n",
            "\n",
            "Memanggil metode tambah dengan argumen: (100,)\n",
            "Hasil penjumlahan : 100\n",
            "\n",
            "Memanggil metode tambah dengan argumen: ()\n",
            "Tidak ada angka untuk dijumlahkan.\n",
            "\n",
            "Memanggil metode tambah dengan argumen: (1, 2, 'tiga', 4, 5.5)\n",
            "Hasil penjumlahan : 1\n"
          ]
        }
      ]
    },
    {
      "cell_type": "markdown",
      "source": [
        "Praktikum 4"
      ],
      "metadata": {
        "id": "CTCHRzKqvIGy"
      }
    },
    {
      "cell_type": "code",
      "source": [
        "class DataProcessor :\n",
        "    def __init__ (self, processor_id) :\n",
        "        self.procesor_id = processor_id\n",
        "        print (f\"Data Processor {self.processor_id} siap.\")\n",
        "\n",
        "    def process (self, *args, **kwargs) :\n",
        "        \"\"\"\n",
        "        Metode ini memproses data dengan argumen posisi (*args)\n",
        "        dan kata kunci (**kwargs) yang jumlahnya variabel.\n",
        "        \"\"\"\n",
        "        print (f\"\\n--- {self.processor_id} Memproses Data ---\")\n",
        "\n",
        "        #memproses argumen posisi (*args -> tuple )\n",
        "        if args :\n",
        "            print (\"Argumen Posisi Diterima\")"
      ],
      "metadata": {
        "id": "ttfWRgDQvKsh"
      },
      "execution_count": null,
      "outputs": []
    }
  ]
}