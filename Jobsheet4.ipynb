{
  "nbformat": 4,
  "nbformat_minor": 0,
  "metadata": {
    "colab": {
      "provenance": [],
      "authorship_tag": "ABX9TyMiT6OPmU/PXgo6zcwHpZ15",
      "include_colab_link": true
    },
    "kernelspec": {
      "name": "python3",
      "display_name": "Python 3"
    },
    "language_info": {
      "name": "python"
    }
  },
  "cells": [
    {
      "cell_type": "markdown",
      "metadata": {
        "id": "view-in-github",
        "colab_type": "text"
      },
      "source": [
        "<a href=\"https://colab.research.google.com/github/fariz123133/JOBSHEET_PBO_2025/blob/main/Jobsheet4.ipynb\" target=\"_parent\"><img src=\"https://colab.research.google.com/assets/colab-badge.svg\" alt=\"Open In Colab\"/></a>"
      ]
    },
    {
      "cell_type": "markdown",
      "source": [
        "Praktikum 1"
      ],
      "metadata": {
        "id": "Fp4OHgo0m_e7"
      }
    },
    {
      "cell_type": "code",
      "source": [
        "#Kelas Induk\n",
        "class Kendaraan:\n",
        "    def __init__ (self, merk) :\n",
        "       self.merk = merk\n",
        "\n",
        "    def mulai_mesin(self) :\n",
        "        print (f\"Mesin Kendaraan {self.merk} dinyalakan.\")\n",
        "\n",
        "#Kelas Anak (Mewarisi Kendaraaan)\n",
        "class Mobil (Kendaraan) :\n",
        "    def __init__ (self, merk, warna) :\n",
        "        #Memanggil __init__ kelas induk\n",
        "        #Untuk sekarang, kita set merk secara manual\n",
        "        self.merk = merk #mewarisi merk tapi di  set ulang\n",
        "        self.warna = warna #atribut khusus mobil\n",
        "\n",
        "    def info_mobil (self) :\n",
        "        print (f\"ini adalah mobil {self.merk} berwarna {self.warna}.\")\n",
        "\n",
        "#Kode Utama\n",
        "if __name__ == \"__main__\":\n",
        "    mobil_tesla = Mobil (\"Tesla Model S\",\"Merah\")\n",
        "\n",
        "    mobil_tesla.info_mobil ()\n",
        "\n",
        "    mobil_tesla.mulai_mesin ()\n",
        "\n",
        "    print (f\"Merk mobil: {mobil_tesla.merk}\")"
      ],
      "metadata": {
        "colab": {
          "base_uri": "https://localhost:8080/"
        },
        "id": "Lq3AZTSmeElz",
        "outputId": "40c98664-9cf7-4682-8b4c-8665f950924c"
      },
      "execution_count": null,
      "outputs": [
        {
          "output_type": "stream",
          "name": "stdout",
          "text": [
            "ini adalah mobil Tesla Model S berwarna Merah.\n",
            "Mesin Kendaraan Tesla Model S dinyalakan.\n",
            "Merk mobil: Tesla Model S\n"
          ]
        }
      ]
    },
    {
      "cell_type": "markdown",
      "source": [
        "Praktikum 2"
      ],
      "metadata": {
        "id": "TUsluzflm8Oi"
      }
    },
    {
      "cell_type": "code",
      "source": [
        "# kelas_induk\n",
        "class Person:\n",
        "   def __init__(self, nama, usia) :\n",
        "       print (f\"(Memanggil __init__ Person untuk '{nama}')\")\n",
        "       self.nama = nama\n",
        "       self.usia = usia\n",
        "\n",
        "   def perkenalkan_diri (self) :\n",
        "          print(f\"Halo, nama saya {self.nama}, usia saya {self.usia} tahun.\")\n",
        "\n",
        "#Kelas Anak\n",
        "class Student (Person) :\n",
        "    def __init__ (self, nama, usia, student_id, jurusan) :\n",
        "        print(f\"(Memanggil __init__ Student untuk '{nama}')\")\n",
        "        # Memanggil __init__ dari kelas person untuk inisialisasi nama dan usia\n",
        "        super().__init__(nama, usia)\n",
        "        #menambahkan atribut khusus student\n",
        "        self.student_id = student_id\n",
        "        self.jurusan = jurusan\n",
        "        print (f\" (Inisialisasi atribut Student selesai untuk '{nama}')\")\n",
        "\n",
        "    def info_akademik (self) :\n",
        "        print (f\"ID Mahasiswa: {self.student_id}\")\n",
        "        print (f\"Jurusan: {self.jurusan}\")\n",
        "\n",
        "    # Override perkenalkan diri untuk menambahkan info student\n",
        "    def perkenalkan_diri (self) :\n",
        "        super().perkenalkan_diri() #panggil versi person\n",
        "        print (f\"Saya adalah Mahasiswa dengan ID {self.student_id}, jurusan {self.jurusan}.\")\n",
        "\n",
        "#Kode Utama\n",
        "if __name__ == \"__main__\":\n",
        "    #Membuat objek person\n",
        "    dosen = Person (\"Pak Anton\", 45)\n",
        "    print (\"-\" * 20)\n",
        "    dosen.perkenalkan_diri ()\n",
        "    print (\"\\n\" + \"=\" * 30 + \"\\n\")\n",
        "\n",
        "    #membuat objek student\n",
        "    mahasiswa = Student (\"Dewi\", 20, \"MHS001\", \"Teknik Komputer\")\n",
        "    print (\"-\" * 20)\n",
        "    mahasiswa.perkenalkan_diri ()\n",
        "    print (\"-\" * 20)\n",
        "    mahasiswa.info_akademik ()\n",
        "\n",
        "    print (f\"\\nUsia mahasiswa {mahasiswa.nama} : {mahasiswa.usia}\")"
      ],
      "metadata": {
        "colab": {
          "base_uri": "https://localhost:8080/"
        },
        "id": "oQKj1wTknB_r",
        "outputId": "18e637b6-b478-4dc7-bf5e-ba58747bccc7"
      },
      "execution_count": null,
      "outputs": [
        {
          "output_type": "stream",
          "name": "stdout",
          "text": [
            "(Memanggil __init__ Person untuk 'Pak Anton')\n",
            "--------------------\n",
            "Halo, nama saya Pak Anton, usia saya 45 tahun.\n",
            "\n",
            "==============================\n",
            "\n",
            "(Memanggil __init__ Student untuk 'Dewi')\n",
            "(Memanggil __init__ Person untuk 'Dewi')\n",
            " (Inisialisasi atribut Student selesai untuk 'Dewi')\n",
            "--------------------\n",
            "Halo, nama saya Dewi, usia saya 20 tahun.\n",
            "Saya adalah Mahasiswa dengan ID MHS001, jurusan Teknik Komputer.\n",
            "--------------------\n",
            "ID Mahasiswa: MHS001\n",
            "Jurusan: Teknik Komputer\n",
            "\n",
            "Usia mahasiswa Dewi : 20\n"
          ]
        }
      ]
    },
    {
      "cell_type": "markdown",
      "source": [
        "Praktikum 3"
      ],
      "metadata": {
        "id": "lSx06IuvyIiq"
      }
    },
    {
      "cell_type": "code",
      "source": [
        "#Kelas induk\n",
        "class Hewan:\n",
        "   def __init__(self, nama) :\n",
        "       self.nama = nama\n",
        "\n",
        "   def bersuara(self) :\n",
        "       print (f\"{self.nama}, mengeluarkan suara generik.\")\n",
        "\n",
        "   def tampilkan_info(self) :\n",
        "       print (f\"Ini adalah hewan bernama {self.nama}.\")\n",
        "\n",
        "#Kelas anak\n",
        "class Kucing (Hewan) :\n",
        "    def __init__ (self, nama, ras) :\n",
        "        super().__init__(nama)\n",
        "        self.ras = ras\n",
        "\n",
        "    def bersuara (self) :\n",
        "        print (f\"{self.nama} (Kucing) mengeong: Meow!\")\n",
        "\n",
        "    def tampilkan_info(self) :\n",
        "        super().tampilkan_info ()\n",
        "        print(f\"Ini adalah kucing ras {self.ras}.\")\n",
        "\n",
        "#Kode Utama\n",
        "if __name__ == \"__main__\":\n",
        "    hewan_umum = Hewan (\"Makhluk\")\n",
        "    kucing_persia = Kucing (\"Puspus\", \"Persia\")\n",
        "\n",
        "    print (\"info Hewan Umum\")\n",
        "    hewan_umum.tampilkan_info ()\n",
        "    hewan_umum.bersuara ()\n",
        "    print (\"-\" * 20)\n",
        "\n",
        "    print(\"Info Kucing Persia:\")\n",
        "    kucing_persia.tampilkan_info ()\n",
        "    kucing_persia.bersuara ()"
      ],
      "metadata": {
        "colab": {
          "base_uri": "https://localhost:8080/"
        },
        "id": "ufogHK_KyKDZ",
        "outputId": "805634f2-1816-4176-fa73-d3a408d411d4"
      },
      "execution_count": null,
      "outputs": [
        {
          "output_type": "stream",
          "name": "stdout",
          "text": [
            "info Hewan Umum\n",
            "Ini adalah hewan bernama Makhluk.\n",
            "Makhluk, mengeluarkan suara generik.\n",
            "--------------------\n",
            "Info Kucing Persia:\n",
            "Ini adalah hewan bernama Puspus.\n",
            "Ini adalah kucing ras Persia.\n",
            "Puspus (Kucing) mengeong: Meow!\n"
          ]
        }
      ]
    },
    {
      "cell_type": "markdown",
      "source": [
        "Praktikum 4"
      ],
      "metadata": {
        "id": "-EMfrsfz3tzq"
      }
    },
    {
      "cell_type": "code",
      "source": [
        "from ast import NameConstant\n",
        "# Kelas Induk level 1\n",
        "class Organisme:\n",
        "    def __init__ (self, nama) :\n",
        "        self.nama = nama\n",
        "        print (f\"Organisme '{self.nama}' diciptakan.\")\n",
        "\n",
        "    def bernapas (self) :\n",
        "        print (f\"{self.nama} sedang bernapas.\")\n",
        "\n",
        "#kelas anak level 1\n",
        "class Hewan (Organisme) :\n",
        "    def __init__ (self, nama, jenis_makanan) :\n",
        "        super().__init__(nama)\n",
        "        self.jenis_makanan = jenis_makanan\n",
        "        print (f\"Hewan '{self.nama}' adalah {self.jenis_makanan}.\")\n",
        "\n",
        "    def bergerak (self) :\n",
        "        print (f\"{self.nama} sedang bergerak.\")\n",
        "\n",
        "#kelas anak level 2\n",
        "class Mamalia (Hewan) :\n",
        "    def __init__ (self, nama, jenis_makanan, jumlah_kaki) :\n",
        "        super().__init__(nama, jenis_makanan)\n",
        "        self.jumlah_kaki = jumlah_kaki\n",
        "        print (f\"Mamalia '{self.nama}' memiliki {self.jumlah_kaki} kaki.\")\n",
        "\n",
        "    def menyusui(self) :\n",
        "       print (f\"{self.nama} sedang menyusui.\")\n",
        "\n",
        "#Kode Utama\n",
        "if __name__==\"__main__\":\n",
        "    kucing = Mamalia (\"Kucing Persia\", \"Karnivora\", 4)\n",
        "    print (\"-\" * 20)\n",
        "\n",
        "    kucing.menyusui ()\n",
        "\n",
        "    kucing.bergerak ()\n",
        "    print (f\"Jenis Makanan: {kucing.jenis_makanan}\")\n",
        "\n",
        "    kucing.bernapas ()\n",
        "    print(f\"Nama organisme: {kucing.nama}\")\n"
      ],
      "metadata": {
        "id": "EbJbSBKn3xBq",
        "outputId": "d8eecb72-2df2-4724-d288-fdce2d5c01d8",
        "colab": {
          "base_uri": "https://localhost:8080/"
        }
      },
      "execution_count": null,
      "outputs": [
        {
          "output_type": "stream",
          "name": "stdout",
          "text": [
            "Organisme 'Kucing Persia' diciptakan.\n",
            "Hewan 'Kucing Persia' adalah Karnivora.\n",
            "Mamalia 'Kucing Persia' memiliki 4 kaki.\n",
            "--------------------\n",
            "Kucing Persia sedang menyusui.\n",
            "Kucing Persia sedang bergerak.\n",
            "Jenis Makanan: Karnivora\n",
            "Kucing Persia sedang bernapas.\n",
            "Nama organisme: Kucing Persia\n"
          ]
        }
      ]
    },
    {
      "cell_type": "code",
      "source": [
        "!apt-get install -y locales\n",
        "!locale-gen id_ID.UTF-8\n",
        "!update-locale"
      ],
      "metadata": {
        "id": "WYOekliozD4y",
        "outputId": "5e03ced6-c86a-4dba-bb30-01625a1338b5",
        "colab": {
          "base_uri": "https://localhost:8080/"
        }
      },
      "execution_count": 8,
      "outputs": [
        {
          "output_type": "stream",
          "name": "stdout",
          "text": [
            "Reading package lists... Done\n",
            "Building dependency tree... Done\n",
            "Reading state information... Done\n",
            "locales is already the newest version (2.35-0ubuntu3.9).\n",
            "0 upgraded, 0 newly installed, 0 to remove and 34 not upgraded.\n",
            "Generating locales (this might take a while)...\n",
            "  id_ID.UTF-8... done\n",
            "Generation complete.\n"
          ]
        }
      ]
    },
    {
      "cell_type": "markdown",
      "source": [
        "Praktikum 5"
      ],
      "metadata": {
        "id": "I7kZnylae3_o"
      }
    },
    {
      "cell_type": "code",
      "source": [
        "import locale\n",
        "\n",
        "# set locale ke Indonesia untuk format mata uang\n",
        "try:\n",
        "    locale.setlocale (locale.LC_ALL, 'id_ID.UTF-8')\n",
        "except locale.Error:\n",
        "       print (\"Locale id_ID.UTF-8 tidak tersedia, menggunakan locale default.\")\n",
        "\n",
        "#fungsi helper untuk format mata uang\n",
        "def format_rupiah (angka) :\n",
        "    return locale.currency (angka, grouping=True, symbol='Rp ')\n",
        "\n",
        "#kelas induk\n",
        "class Pegawai :\n",
        "    def __init__(self, nama, id_pegawai, gaji_pokok) :\n",
        "        self.nama = nama\n",
        "        self.id_pegawai = id_pegawai\n",
        "        self.gaji_pokok = gaji_pokok\n",
        "\n",
        "    def hitung_gaji (self) :\n",
        "       return self.gaji_pokok\n",
        "\n",
        "    def tampilkan_info (self) :\n",
        "       print (f\"ID: {self.id_pegawai}, Nama: {self.nama}\")\n",
        "       print (f\" Gaji Pokok: {format_rupiah(self.gaji_pokok)}\")\n",
        "\n",
        "#kelas anak 1\n",
        "class Manager (Pegawai) :\n",
        "    def __init__ (self, nama, id_pegawai, gaji_pokok, tunjangan_jabatan) :\n",
        "        super().__init__(nama, id_pegawai, gaji_pokok)\n",
        "        self.tunjangan_jabatan = tunjangan_jabatan\n",
        "\n",
        "    def hitung_gaji (self) :\n",
        "        gaji_total =super().hitung_gaji () + self.tunjangan_jabatan\n",
        "        return gaji_total\n",
        "\n",
        "    def tampilkan_info(self) :\n",
        "        print (\"---Info Manager---\")\n",
        "        super(). tampilkan_info ()\n",
        "        print (f\" Tunjangan Jabatan: {format_rupiah(self.tunjangan_jabatan)}\")\n",
        "        print (f\" Total Gaji: {format_rupiah(self.hitung_gaji())}\")\n",
        "\n",
        "#kelas anak 2\n",
        "class StafTeknis (Pegawai) :\n",
        "    def __init__ (self, nama, id_pegawai, gaji_pokok, keahlian, bonus_keahlian) :\n",
        "        super().__init__(nama, id_pegawai, gaji_pokok)\n",
        "        self.keahlian = keahlian\n",
        "        self.bonus_keahlian = bonus_keahlian\n",
        "\n",
        "    def hitung_gaji (self) :\n",
        "        gaji_total = super().hitung_gaji () + self.bonus_keahlian\n",
        "        return gaji_total\n",
        "\n",
        "    def tampilkan_info (self) :\n",
        "        print (\"--- Info Staf Teknis---\")\n",
        "        super().tampilkan_info ()\n",
        "        print (f\" Keahlian: {self.keahlian}\")\n",
        "        print (f\" Bonus Keahlian: {format_rupiah(self.bonus_keahlian) }\")\n",
        "        print (f\" Total Gaji: {format_rupiah(self.hitung_gaji())}\")\n",
        "\n",
        "\n",
        "#Kode Utama\n",
        "if __name__ == \"__main__\":\n",
        "    manager1 = Manager (\"Budi Santoso\", \"M001\", 10000000, 5000000)\n",
        "    staf1 = StafTeknis (\"Citra Lestari\", \"S001\", 7000000, \"Python Programming\", 1500000)\n",
        "    pegawai_baru = Pegawai (\"Rian\", \"P005\", 5000000)\n",
        "\n",
        "    print (\"Menampilkan Informasi Pegawai:\")\n",
        "    manager1.tampilkan_info ()\n",
        "    print (\"-\" * 30)\n",
        "    staf1.tampilkan_info ()\n",
        "    print (\"-\" * 30)\n",
        "\n",
        "    print (\"--- Info Pegawai Baru---\")\n",
        "    pegawai_baru.tampilkan_info ()\n",
        "    print (f\" Total Gaji: {format_rupiah(pegawai_baru.hitung_gaji ())}\")\n",
        "    #memanggil versi pegawai\n",
        "    print(\"-\" * 30)\n",
        "\n",
        "    manager1.tampilkan_info ()\n",
        "    print (\"-\" * 30)\n",
        ""
      ],
      "metadata": {
        "id": "Qzc2TuDue6Zm",
        "outputId": "ed088c4a-e0e9-4d25-f8c5-9cbfac0c683a",
        "colab": {
          "base_uri": "https://localhost:8080/"
        }
      },
      "execution_count": 1,
      "outputs": [
        {
          "output_type": "stream",
          "name": "stdout",
          "text": [
            "Menampilkan Informasi Pegawai:\n",
            "---Info Manager---\n",
            "ID: M001, Nama: Budi Santoso\n",
            " Gaji Pokok: Rp10.000.000,00\n",
            " Tunjangan Jabatan: Rp5.000.000,00\n",
            " Total Gaji: Rp15.000.000,00\n",
            "------------------------------\n",
            "--- Info Staf Teknis---\n",
            "ID: S001, Nama: Citra Lestari\n",
            " Gaji Pokok: Rp7.000.000,00\n",
            " Keahlian: Python Programming\n",
            " Bonus Keahlian: Rp1.500.000,00\n",
            " Total Gaji: Rp8.500.000,00\n",
            "------------------------------\n",
            "--- Info Pegawai Baru---\n",
            "ID: P005, Nama: Rian\n",
            " Gaji Pokok: Rp5.000.000,00\n",
            " Total Gaji: Rp5.000.000,00\n",
            "------------------------------\n",
            "---Info Manager---\n",
            "ID: M001, Nama: Budi Santoso\n",
            " Gaji Pokok: Rp10.000.000,00\n",
            " Tunjangan Jabatan: Rp5.000.000,00\n",
            " Total Gaji: Rp15.000.000,00\n",
            "------------------------------\n"
          ]
        }
      ]
    }
  ]
}