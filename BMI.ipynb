{
  "nbformat": 4,
  "nbformat_minor": 0,
  "metadata": {
    "colab": {
      "provenance": [],
      "history_visible": true,
      "authorship_tag": "ABX9TyN9chEExksSb2Noo2e57/rD",
      "include_colab_link": true
    },
    "kernelspec": {
      "name": "python3",
      "display_name": "Python 3"
    },
    "language_info": {
      "name": "python"
    }
  },
  "cells": [
    {
      "cell_type": "markdown",
      "metadata": {
        "id": "view-in-github",
        "colab_type": "text"
      },
      "source": [
        "<a href=\"https://colab.research.google.com/github/fariz123133/JOBSHEET_PBO_2025/blob/main/BMI.ipynb\" target=\"_parent\"><img src=\"https://colab.research.google.com/assets/colab-badge.svg\" alt=\"Open In Colab\"/></a>"
      ]
    },
    {
      "cell_type": "code",
      "source": [
        "# Program sederhana menghitung BMI\n",
        "\n",
        "# Meminta pengguna memasukkan berat badan (kg)\n",
        "berat = float(input(\"Masukkan berat badan dalam kg: \"))\n",
        "\n",
        "# Meminta pengguna memasukkan tinggi badan (cm)\n",
        "tinggi_cm = float(input(\"Masukkan tinggi badan dalam cm: \"))\n",
        "\n",
        "# Mengubah tinggi dari cm ke meter\n",
        "tinggi_m = tinggi_cm / 100\n",
        "\n",
        "# Menghitung BMI\n",
        "bmi = berat / (tinggi_m * tinggi_m)\n",
        "\n",
        "# Menentukan kategori berdasarkan nilai BMI\n",
        "if bmi < 18.5:\n",
        "    kategori = \"Underweight (Kurus)\"\n",
        "elif bmi >= 18.5 and bmi < 25:\n",
        "    kategori = \"Normal (Ideal)\"\n",
        "else:\n",
        "    kategori = \"Overweight (Berat Badan Berlebih)\"\n",
        "\n",
        "# Menampilkan hasil\n",
        "print(\"\\nHasil Perhitungan BMI Anda:\")\n",
        "print(\"BMI:\", round(bmi, 2))  # Menampilkan 2 angka di belakang koma\n",
        "print(\"Kategori:\", kategori)\n"
      ],
      "metadata": {
        "colab": {
          "base_uri": "https://localhost:8080/"
        },
        "id": "pWtWdQhNBfmG",
        "outputId": "22f64bef-7518-4007-8551-0507d7104b47"
      },
      "execution_count": 10,
      "outputs": [
        {
          "output_type": "stream",
          "name": "stdout",
          "text": [
            "Masukkan berat badan dalam kg: 200\n",
            "Masukkan tinggi badan dalam cm: 150\n",
            "\n",
            "Hasil Perhitungan BMI Anda:\n",
            "BMI: 88.89\n",
            "Kategori: Overweight (Berat Badan Berlebih)\n"
          ]
        }
      ]
    }
  ]
}